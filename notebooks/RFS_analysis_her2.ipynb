{
 "cells": [
  {
   "cell_type": "code",
   "execution_count": 2,
   "metadata": {
    "collapsed": false
   },
   "outputs": [
    {
     "name": "stdout",
     "output_type": "stream",
     "text": [
      "Populating the interactive namespace from numpy and matplotlib\n"
     ]
    }
   ],
   "source": [
    "import pandas as pd\n",
    "import numpy as np\n",
    "import seaborn as sns\n",
    "import re\n",
    "% pylab inline"
   ]
  },
  {
   "cell_type": "code",
   "execution_count": 4,
   "metadata": {
    "collapsed": false
   },
   "outputs": [
    {
     "name": "stdout",
     "output_type": "stream",
     "text": [
      "(121, 53)\n",
      "NONE/DISEASE FREE            67\n",
      "NEVER DISEASE FREE           13\n",
      "RECURRED, TYPE UNKNOWN        4\n",
      "UNKNOWN                       4\n",
      "DIST RECUR, BONE              4\n",
      "DIST RECUR, SYSTEMIC          2\n",
      "DIST RECUR MULTIPLE SITES     1\n",
      "DIST RECUR, LUNG              1\n",
      "DIST RECUR, CNS               1\n",
      "LOCAL RECUR, INVAS TUMOR      1\n",
      "DIST RECUR, LYMPH NODE        1\n",
      "Name: Recurrence Type Summary, dtype: int64\n"
     ]
    }
   ],
   "source": [
    "rootdir = '/Users/shuang/Documents/Proj_Radiomics/Data/her2'\n",
    "outcome_fname = '{}/her2_ClinicalData/her2_outcome_NJupdated.csv'.format(rootdir)\n",
    "her2_outcome_df = pd.read_csv(outcome_fname,dtype={'MRN': str,'Recurrence Type Summary': str,'Brith Date': str, 'Date at Dx': str, 'Date Recurrence': str, 'Vital status': str})\n",
    "her2_outcome_df = her2_outcome_df.replace('#VALUE!',np.nan)\n",
    "# print her2_outcome_df.dtypes\n",
    "print(her2_outcome_df.shape)\n",
    "print(her2_outcome_df['Recurrence Type Summary'].value_counts())"
   ]
  },
  {
   "cell_type": "markdown",
   "metadata": {},
   "source": [
    "#### The below definition was [here](https://www.researchgate.net/post/Are_there_differences_between_progression-free_survival_relapse-free_survival_and_recurrence-free_survival2)\n",
    "\n",
    "Recurrence-free survival (RFS) includes the following:\n",
    "- any recurrence (local or regional, including invasive ipsilateral tumor and invasive locoregional tumor, or distant) - death due to any cause (both BC and non-BC causes of death).\n",
    "Note that under STEEP DFS (disease-free survival) is interchangeable with recurrence-free survival\n",
    "\n",
    "Relapse-free survival:\n",
    "- as any disease recurrence (local, regional, or distant)\n",
    "- death is censored (not included)"
   ]
  },
  {
   "cell_type": "code",
   "execution_count": 5,
   "metadata": {
    "collapsed": false
   },
   "outputs": [],
   "source": [
    "# convert data to appropriate date\n",
    "her2_outcome_df['Date_Recur'] = pd.to_datetime(her2_outcome_df['Date Recurrence'])\n",
    "her2_outcome_df['Date_Dx'] = pd.to_datetime(her2_outcome_df['Date of Primary Dx'])\n",
    "her2_outcome_df['Date_lastcontactOrDeath'] = pd.to_datetime(her2_outcome_df['Last contact/death'])\n",
    "# print type(her2_outcome_df.ix[1,'Date_Recur'])\n",
    "# # print her2_outcome_df['Date_Dx']\n",
    "# # print her2_outcome_df['Date_lastcontactOrDeath']\n",
    "\n",
    "def duration_func(x):\n",
    "#     print 'Recurrence = {}'.format(x['Recurrence'])\n",
    "#     print 'Dx: {}, Recur: {}, last contact: {}'.format(x['Date_Dx'], x['Date_Recur'], x['Date_lastcontactOrDeath'])\n",
    "    if x['Recurrence'] == 1:\n",
    "        if isinstance(x['Date_Dx'], pd.tslib.NaTType) is False and isinstance(x['Date_Recur'], pd.tslib.NaTType) is False:\n",
    "            delta_time = (x['Date_Recur'] - x['Date_Dx']).days\n",
    "            return delta_time\n",
    "        else:\n",
    "            return np.nan\n",
    "    elif x['Recurrence'] == 0:\n",
    "        if isinstance(x['Date_Dx'], pd.tslib.NaTType) is False and isinstance(x['Date_lastcontactOrDeath'], pd.tslib.NaTType) is False:\n",
    "            delta_time = (x['Date_lastcontactOrDeath'] - x['Date_Dx']).days\n",
    "            return delta_time\n",
    "        else:\n",
    "            return np.nan\n",
    "    else:\n",
    "        return np.nan\n",
    "\n",
    "def relapse_free_observed(x):\n",
    "    rf_dur = x['relapse_free_duration']\n",
    "    if np.isnan(rf_dur) == False:\n",
    "        if x['Recurrence'] == 1:\n",
    "            return 1\n",
    "        elif x['Recurrence'] == 0 and x['Alive/dead'] == 1:\n",
    "            return 0\n",
    "        elif x['Recurrence'] == 0 and x['Alive/dead'] == 0:\n",
    "            return 0\n",
    "        elif x['Recurrence'] == 2:\n",
    "            return np.nan\n",
    "        else:\n",
    "            return np.nan\n",
    "    else:\n",
    "        return np.nan\n",
    "    \n",
    "def recurrence_free_observed(x):\n",
    "    rf_dur = x['relapse_free_duration']\n",
    "    if np.isnan(rf_dur) == False:\n",
    "        if x['Recurrence'] == 1:\n",
    "            return 1\n",
    "        elif x['Recurrence'] == 0 and x['Alive/dead'] == 1:\n",
    "            return 0\n",
    "        elif x['Recurrence'] == 0 and x['Alive/dead'] == 0:\n",
    "            return 1\n",
    "        elif x['Recurrence'] == 2:\n",
    "            return np.nan\n",
    "        else:\n",
    "            return np.nan\n",
    "    else:\n",
    "        return np.nan\n",
    "        \n",
    "her2_outcome_df['relapse_free_duration'] = her2_outcome_df.apply(duration_func,axis=1)\n",
    "# her2_outcome_df['relapse_observed'] = her2_outcome_df.apply(relapse_free_observed,axis=1)\n",
    "her2_outcome_df['recurrence_observed'] = her2_outcome_df.apply(recurrence_free_observed,axis=1)\n",
    "# print her2_outcome_df.ix[:,['Recurrence','relapse_free_duration','relapse_observed','Alive/dead']]"
   ]
  },
  {
   "cell_type": "code",
   "execution_count": 6,
   "metadata": {
    "collapsed": false
   },
   "outputs": [
    {
     "data": {
      "text/plain": [
       "<matplotlib.text.Text at 0x115dd2588>"
      ]
     },
     "execution_count": 6,
     "metadata": {},
     "output_type": "execute_result"
    },
    {
     "data": {
      "image/png": "[encoded data removed]",
      "text/plain": [
       "<matplotlib.figure.Figure at 0x115ca1518>"
      ]
     },
     "metadata": {},
     "output_type": "display_data"
    }
   ],
   "source": [
    "from lifelines import KaplanMeierFitter\n",
    "kmf = KaplanMeierFitter()\n",
    "T = her2_outcome_df['relapse_free_duration'].dropna()\n",
    "# E = her2_outcome_df['relapse_observed'].dropna()\n",
    "E = her2_outcome_df['recurrence_observed'].dropna()\n",
    "kmf.fit(T, event_observed=E)\n",
    "kmf.plot()\n",
    "# plt.xlabel('Relapse-Free Survival (years)')\n",
    "plt.xlabel('Recurrence-Free Survival (days)')"
   ]
  },
  {
   "cell_type": "code",
   "execution_count": 7,
   "metadata": {
    "collapsed": false
   },
   "outputs": [],
   "source": [
    "# look at the survival curves for different subgroups\n",
    "\n",
    "# get some more outcome data\n",
    "# PET and MRI image setting\n",
    "the_mri_tp = 2\n",
    "the_mri_glcmbin = 128\n",
    "the_pet_imgnorm_bin = 128\n",
    "the_pet_glcmbin = 64\n",
    "\n",
    "# get all the consensus clustering result and determine the BEST cluster result\n",
    "im_dir = '{}/her2_Analysis/PETMRI/PETgbin{}_imgbin{}_MRItp{}_gbin{}'.format(rootdir,the_pet_glcmbin,the_pet_imgnorm_bin,the_mri_tp,the_mri_glcmbin)\n",
    "df_data_all = pd.read_csv('{}/data_all.csv'.format(im_dir),dtype={'MRN': str})\n",
    "df_data_all = df_data_all.rename(columns={'Sjoerd_Grade': 'Tumor_Grade', 'Marjan_Histology': 'Tumor_Histology'})\n",
    "# print df_data_all.columns.tolist()\n",
    "outcome_list = ['Recurrence_Type', 'Diseasefree_5yr', 'BoneMetsOrNot','Recurrence_3', 'Recurrence_4','TripleNeg',\n",
    "                'Tumor_Grade','Tumor_Histology', 'T_stage', 'N_stage', 'Overall_stage','BC_subtype']\n",
    "df_outcome = df_data_all.ix[:,['MRN','ptid_side'] + outcome_list]\n",
    "\n",
    "# get CC cluster result for tumor grade\n",
    "cc_prefix = 'patientConsensusCluster'\n",
    "# the_cm = 'hc'\n",
    "# the_cl = 'complete'\n",
    "# the_dm = 'spearman'\n",
    "\n",
    "the_cm = 'pam'\n",
    "the_cl = None\n",
    "the_dm = 'spearman'\n",
    "\n",
    "if isinstance(the_cl, str):\n",
    "    cc_dir = '{}/{}_{}_{}_{}'.format(im_dir, cc_prefix, the_cm, the_cl, the_dm)\n",
    "else:\n",
    "    cc_dir = '{}/{}_{}_{}'.format(im_dir, cc_prefix, the_cm, the_dm)\n",
    "the_N_cluster = 3\n",
    "cs_class_fname = '{}/ConsensusClass_kmax{}.csv'.format(cc_dir,the_N_cluster)\n",
    "cs_class_df = pd.read_csv(cs_class_fname)\n",
    "cs_class_df.columns = ['ptid_side', 'cs_class']\n",
    "\n",
    "# combine the cs_class to the_df\n",
    "jdf1 = pd.merge(df_outcome, cs_class_df, on='ptid_side')\n",
    "\n",
    "# join with her2 recurrence data\n",
    "jdf2 = pd.merge(jdf1,her2_outcome_df, on='MRN')\n",
    "# print jdf2.ix[:,['MRN','relapse_free_duration','relapse_observed']]\n",
    "# print jdf1.shape\n",
    "# print jdf2.shape\n",
    "# print her2_outcome_df.shape\n",
    "# print df_data_all.shape"
   ]
  },
  {
   "cell_type": "code",
   "execution_count": 9,
   "metadata": {
    "collapsed": false
   },
   "outputs": [
    {
     "name": "stdout",
     "output_type": "stream",
     "text": [
      "0.0    54\n",
      "1.0     7\n",
      "Name: recurrence_observed, dtype: int64\n"
     ]
    },
    {
     "data": {
      "text/plain": [
       "<matplotlib.text.Text at 0x1168d8b70>"
      ]
     },
     "execution_count": 9,
     "metadata": {},
     "output_type": "execute_result"
    },
    {
     "data": {
      "image/png": "[encoded data removed]",
      "text/plain": [
       "<matplotlib.figure.Figure at 0x116861c50>"
      ]
     },
     "metadata": {},
     "output_type": "display_data"
    },
    {
     "data": {
      "image/png": "[encoded data removed]",
      "text/plain": [
       "<matplotlib.figure.Figure at 0x1168b8e48>"
      ]
     },
     "metadata": {},
     "output_type": "display_data"
    }
   ],
   "source": [
    "# survival analysis of N=86 (after joining with the image texture data)\n",
    "kmf = KaplanMeierFitter()\n",
    "\n",
    "T = jdf2['relapse_free_duration']\n",
    "E = jdf2['recurrence_observed']\n",
    "print(E.value_counts())\n",
    "kmf.fit(T, event_observed=E)\n",
    "kmf.survival_function_.plot()\n",
    "plt.title('Survival function of breast cancer recurrence')\n",
    "plt.xlabel('Recurrence-Free Survival (days)')\n",
    "kmf.plot()\n",
    "plt.xlabel('Recurrence-Free Survival (days)')"
   ]
  },
  {
   "cell_type": "code",
   "execution_count": 11,
   "metadata": {
    "collapsed": false
   },
   "outputs": [
    {
     "name": "stdout",
     "output_type": "stream",
     "text": [
      "class 1, median survival time: inf\n",
      "class 3, median survival time: inf\n",
      "class 2, median survival time: inf\n"
     ]
    },
    {
     "data": {
      "text/plain": [
       "<matplotlib.text.Text at 0x1047931d0>"
      ]
     },
     "execution_count": 11,
     "metadata": {},
     "output_type": "execute_result"
    },
    {
     "data": {
      "image/png": "[encoded data removed]",
      "text/plain": [
       "<matplotlib.figure.Figure at 0x1168ec5c0>"
      ]
     },
     "metadata": {},
     "output_type": "display_data"
    }
   ],
   "source": [
    "ax = plt.subplot(111)\n",
    "\n",
    "the_subgroup_outcome = 'cs_class'\n",
    "# the_subgroup_outcome = 'Tumor_Grade'\n",
    "subgroup_list = jdf2[the_subgroup_outcome].unique().tolist()\n",
    "for ii in subgroup_list:\n",
    "    cc = (jdf2[the_subgroup_outcome] == ii)\n",
    "    T2 = T[cc]\n",
    "    E2 = E[cc]\n",
    "    kmf.fit(T2, event_observed=E2, label='subgroup {}'.format(ii))\n",
    "    kmf.plot(ax=ax)\n",
    "    print('class {}, median survival time: {}'.format(ii,kmf.median_))\n",
    "    \n",
    "plt.ylim(0,1)\n",
    "plt.title('breast cancer tumor cluster subgroups')"
   ]
  },
  {
   "cell_type": "code",
   "execution_count": 12,
   "metadata": {
    "collapsed": false
   },
   "outputs": [
    {
     "name": "stdout",
     "output_type": "stream",
     "text": [
      "Results\n",
      "   null distribution: chi squared\n",
      "   df: 1\n",
      "   alpha: 0.95\n",
      "   test: logrank\n",
      "   t 0: -1\n",
      "\n",
      "   __ p-value ___|__ test statistic __|____ test result ____|__ is significant __\n",
      "         0.04478 |              4.027 |      Reject Null    |        True       \n"
     ]
    }
   ],
   "source": [
    "from lifelines.statistics import logrank_test\n",
    "cc = (jdf2[the_subgroup_outcome] == 2)\n",
    "\n",
    "results = logrank_test(T[cc],T[~cc],E[cc],E[~cc])\n",
    "results.print_summary()"
   ]
  },
  {
   "cell_type": "code",
   "execution_count": 14,
   "metadata": {
    "collapsed": false
   },
   "outputs": [
    {
     "name": "stdout",
     "output_type": "stream",
     "text": [
      "(221, 2)\n",
      "0    158\n",
      "1     63\n",
      "Name: rfs_ind, dtype: int64\n"
     ]
    },
    {
     "data": {
      "text/plain": [
       "<matplotlib.text.Text at 0x11940ce10>"
      ]
     },
     "execution_count": 14,
     "metadata": {},
     "output_type": "execute_result"
    },
    {
     "data": {
      "image/png": "[encoded data removed]",
      "text/plain": [
       "<matplotlib.figure.Figure at 0x1191a32e8>"
      ]
     },
     "metadata": {},
     "output_type": "display_data"
    },
    {
     "data": {
      "image/png": "[encoded data removed]",
      "text/plain": [
       "<matplotlib.figure.Figure at 0x11689f358>"
      ]
     },
     "metadata": {},
     "output_type": "display_data"
    }
   ],
   "source": [
    "# test MRI ispy1 data\n",
    "fname = '{}/mri_ispy1_RFS.csv'.format(im_dir)\n",
    "df_ispy1 = pd.read_csv(fname)\n",
    "T = df_ispy1['RFS']\n",
    "E = df_ispy1['rfs_ind']\n",
    "print(df_ispy1.shape)\n",
    "print(df_ispy1['rfs_ind'].value_counts())\n",
    "kmf.fit(T, event_observed=E)\n",
    "kmf.survival_function_.plot()\n",
    "plt.xlabel('Recurrence-Free Survival (days)')\n",
    "kmf.plot()\n",
    "plt.xlabel('Recurrence-Free Survival (days)')"
   ]
  },
  {
   "cell_type": "code",
   "execution_count": 33,
   "metadata": {
    "collapsed": false
   },
   "outputs": [
    {
     "name": "stdout",
     "output_type": "stream",
     "text": [
      "n=89, number of events=33\n",
      "\n",
      "                                        coef  exp(coef)     se(coef)      z      p    lower 0.95   upper 0.95   \n",
      "FOstats_energy_mri                    0.0000     1.0000       0.0000 0.0000 1.0000       -0.0000       0.0000   \n",
      "FOstats_entropy_mri                   0.0000     1.0000       1.7599 0.0000 1.0000       -3.4500       3.4500   \n",
      "FOstats_kurtosis_mri                  0.0000     1.0000       1.5263 0.0000 1.0000       -2.9922       2.9922   \n",
      "FOstats_mean_mri                      0.0000     1.0000       0.0042 0.0000 1.0000       -0.0082       0.0082   \n",
      "FOstats_skewness_mri                  0.0000     1.0000       3.9950 0.0000 1.0000       -7.8318       7.8318   \n",
      "FOstats_variance_mri                  0.0000     1.0000       0.0000 0.0000 1.0000       -0.0000       0.0000   \n",
      "ShapeSize_compactness1_mri            0.0000     1.0000      31.7833 0.0000 1.0000      -62.3078      62.3078   \n",
      "ShapeSize_compactness2_mri            0.0000     1.0000      54.1181 0.0000 1.0000     -106.0928     106.0928   \n",
      "ShapeSize_max_euc_dis_mri             0.0000     1.0000       0.5621 0.0000 1.0000       -1.1020       1.1020   \n",
      "ShapeSize_spherical_disproportion_mri 0.0000     1.0000       2.1278 0.0000 1.0000       -4.1713       4.1713   \n",
      "ShapeSize_sphericity_mri              0.0000     1.0000      35.0327 0.0000 1.0000      -68.6779      68.6779   \n",
      "ShapeSize_surf_area_cm2_mri           0.0000     1.0000       0.0574 0.0000 1.0000       -0.1125       0.1125   \n",
      "ShapeSize_surface2volratio_mri        0.0000     1.0000       0.4949 0.0000 1.0000       -0.9703       0.9703   \n",
      "ShapeSize_vol_cm3_mri                 0.0000     1.0000       0.7349 0.0000 1.0000       -1.4408       1.4408   \n",
      "texture_autocorrelation_avg_mri       0.0000     1.0000       0.1943 0.0000 1.0000       -0.3809       0.3809   \n",
      "texture_cluster_prominence_avg_mri    0.0000     1.0000       0.0000 0.0000 1.0000       -0.0000       0.0000   \n",
      "texture_cluster_shade_avg_mri         0.0000     1.0000       0.0001 0.0000 1.0000       -0.0002       0.0002   \n",
      "texture_cluster_tendency_avg_mri      0.0000     1.0000       0.0149 0.0000 1.0000       -0.0291       0.0291   \n",
      "texture_contrast_avg_mri              0.0000     1.0000       0.5741 0.0000 1.0000       -1.1255       1.1255   \n",
      "texture_diff_entropy_avg_mri          0.0000     1.0000      17.1229 0.0000 1.0000      -33.5677      33.5677   \n",
      "texture_dissimilarity_avg_mri         0.0000     1.0000      28.2330 0.0000 1.0000      -55.3479      55.3479   \n",
      "texture_entropy_avg_mri               0.0000     1.0000       8.0650 0.0000 1.0000      -15.8105      15.8105   \n",
      "texture_homogeneity1_avg_mri          0.0000     1.0000    2091.5887 0.0000 1.0000    -4100.3399    4100.3399   \n",
      "texture_homogeneity2_avg_mri          0.0000     1.0000    1685.0807 0.0000 1.0000    -3303.4237    3303.4237   \n",
      "texture_inv_var_avg_mri               0.0000     1.0000     184.9206 0.0000 1.0000     -362.5175     362.5175   \n",
      "texture_sum_avg_avg_mri               0.0000     1.0000       0.7287 0.0000 1.0000       -1.4286       1.4286   \n",
      "texture_sum_entropy_avg_mri           0.0000     1.0000      17.1793 0.0000 1.0000      -33.6783      33.6783   \n",
      "texture_sum_var_avg_mri               0.0000     1.0000       0.0484 0.0000 1.0000       -0.0949       0.0949   \n",
      "FOstats_min_mri                       0.0000     1.0000       0.0060 0.0000 1.0000       -0.0119       0.0119   \n",
      "FOstats_max_mri                       0.0000     1.0000       0.0018 0.0000 1.0000       -0.0035       0.0035   \n",
      "FOstats_energy_pet                    0.0000     1.0000       0.0000 0.0000 1.0000       -0.0001       0.0001   \n",
      "FOstats_entropy_pet                   0.0000     1.0000       0.5148 0.0000 1.0000       -1.0093       1.0093   \n",
      "FOstats_kurtosis_pet                  0.0000     1.0000       0.4427 0.0000 1.0000       -0.8678       0.8678   \n",
      "FOstats_mean_pet                      0.0000     1.0000       3.9709 0.0000 1.0000       -7.7845       7.7845   \n",
      "FOstats_min_pet                       0.0000     1.0000       7.8934 0.0000 1.0000      -15.4742      15.4742   \n",
      "FOstats_max_pet                       0.0000     1.0000       1.2537 0.0000 1.0000       -2.4578       2.4578   \n",
      "FOstats_skewness_pet                  0.0000     1.0000       3.4587 0.0000 1.0000       -6.7804       6.7804   \n",
      "FOstats_uniformity_pet                0.0000     1.0000       0.2779 0.0000 1.0000       -0.5448       0.5448   \n",
      "FOstats_variance_pet                  0.0000     1.0000       1.4123 0.0000 1.0000       -2.7686       2.7686   \n",
      "ShapeSize_compactness1_pet            0.0000     1.0000      15.4204 0.0000 1.0000      -30.2302      30.2302   \n",
      "ShapeSize_compactness2_pet            0.0000     1.0000      80.4371 0.0000 1.0000     -157.6885     157.6885   \n",
      "ShapeSize_max_euc_dis_pet             0.0000     1.0000       0.8819 0.0000 1.0000       -1.7289       1.7289   \n",
      "ShapeSize_spherical_disproportion_pet 0.0000     1.0000      21.0160 0.0000 1.0000      -41.1997      41.1997   \n",
      "ShapeSize_sphericity_pet              0.0000     1.0000     144.7762 0.0000 1.0000     -283.8185     283.8185   \n",
      "ShapeSize_surf_area_cm2_pet           0.0000     1.0000       0.1231 0.0000 1.0000       -0.2414       0.2414   \n",
      "ShapeSize_surface2volratio_pet        0.0000     1.0000       1.9184 0.0000 1.0000       -3.7609       3.7609   \n",
      "ShapeSize_vol_cm3_pet                 0.0000     1.0000       0.2976 0.0000 1.0000       -0.5834       0.5834   \n",
      "texture_autocorrelation_avg_pet       0.0000     1.0000       0.6003 0.0000 1.0000       -1.1769       1.1769   \n",
      "texture_cluster_prominence_avg_pet    0.0000     1.0000       0.0001 0.0000 1.0000       -0.0002       0.0002   \n",
      "texture_cluster_shade_avg_pet         0.0000     1.0000       0.0026 0.0000 1.0000       -0.0051       0.0051   \n",
      "texture_cluster_tendency_avg_pet      0.0000     1.0000       0.0835 0.0000 1.0000       -0.1637       0.1637   \n",
      "texture_contrast_avg_pet              0.0000     1.0000     161.4176 0.0000 1.0000     -316.4423     316.4423   \n",
      "texture_correlation_avg_pet           0.0000     1.0000       4.1772 0.0000 1.0000       -8.1890       8.1890   \n",
      "texture_diff_entropy_avg_pet          0.0000     1.0000      14.0716 0.0000 1.0000      -27.5860      27.5860   \n",
      "texture_dissimilarity_avg_pet         0.0000     1.0000   17137.2309 0.0000 1.0000   -33595.7404   33595.7404   \n",
      "texture_energy_avg_pet                0.0000     1.0000      35.6294 0.0000 1.0000      -69.8478      69.8478   \n",
      "texture_entropy_avg_pet               0.0000     1.0000      20.1674 0.0000 1.0000      -39.5361      39.5361   \n",
      "texture_homogeneity1_avg_pet          0.0000     1.0000   47184.0793 0.0000 1.0000   -92499.4293   92499.4293   \n",
      "texture_homogeneity2_avg_pet          0.0000     1.0000   33442.3455 0.0000 1.0000   -65560.2042   65560.2042   \n",
      "texture_idn_avg_pet                   0.0000     1.0000 1217916.5772 0.0000 1.0000 -2387597.4672 2387597.4672   \n",
      "texture_inv_var_avg_pet               0.0000     1.0000    5036.8779 0.0000 1.0000    -9874.2699    9874.2699   \n",
      "texture_maxprob_avg_pet               0.0000     1.0000      25.2014 0.0000 1.0000      -49.4047      49.4047   \n",
      "texture_sum_avg_avg_pet               0.0000     1.0000       1.1781 0.0000 1.0000       -2.3095       2.3095   \n",
      "texture_sum_entropy_avg_pet           0.0000     1.0000      18.7871 0.0000 1.0000      -36.8301      36.8301   \n",
      "texture_sum_var_avg_pet               0.0000     1.0000       0.1648 0.0000 1.0000       -0.3231       0.3231   \n",
      "---\n",
      "Signif. codes:  0 '***' 0.001 '**' 0.01 '*' 0.05 '.' 0.1 ' ' 1 \n",
      "\n"
     ]
    },
    {
     "ename": "AssertionError",
     "evalue": "",
     "output_type": "error",
     "traceback": [
      "\u001b[0;31m---------------------------------------------------------------------------\u001b[0m",
      "\u001b[0;31mAssertionError\u001b[0m                            Traceback (most recent call last)",
      "\u001b[0;32m<ipython-input-33-252347f1c29b>\u001b[0m in \u001b[0;36m<module>\u001b[0;34m()\u001b[0m\n\u001b[1;32m     28\u001b[0m \u001b[0;34m\u001b[0m\u001b[0m\n\u001b[1;32m     29\u001b[0m \u001b[0mcph\u001b[0m\u001b[0;34m.\u001b[0m\u001b[0mfit\u001b[0m\u001b[0;34m(\u001b[0m\u001b[0mjdf3\u001b[0m\u001b[0;34m,\u001b[0m \u001b[0mduration_col\u001b[0m\u001b[0;34m=\u001b[0m\u001b[0;34m'relapse_free_duration'\u001b[0m\u001b[0;34m,\u001b[0m \u001b[0mevent_col\u001b[0m\u001b[0;34m=\u001b[0m\u001b[0;34m'recurrence_observed'\u001b[0m\u001b[0;34m)\u001b[0m\u001b[0;34m\u001b[0m\u001b[0m\n\u001b[0;32m---> 30\u001b[0;31m \u001b[0mcph\u001b[0m\u001b[0;34m.\u001b[0m\u001b[0mprint_summary\u001b[0m\u001b[0;34m(\u001b[0m\u001b[0;34m)\u001b[0m  \u001b[0;31m# access the results using cph.summary\u001b[0m\u001b[0;34m\u001b[0m\u001b[0m\n\u001b[0m\u001b[1;32m     31\u001b[0m \u001b[0;34m\u001b[0m\u001b[0m\n\u001b[1;32m     32\u001b[0m \u001b[0;31m# from lifelines.datasets import load_rossi\u001b[0m\u001b[0;34m\u001b[0m\u001b[0;34m\u001b[0m\u001b[0m\n",
      "\u001b[0;32m/Users/shuang/Packages/anaconda2/envs/tensorflow_py35/lib/python3.5/site-packages/lifelines/fitters/coxph_fitter.py\u001b[0m in \u001b[0;36mprint_summary\u001b[0;34m(self)\u001b[0m\n\u001b[1;32m    390\u001b[0m               .format(concordance_index(self.durations,\n\u001b[1;32m    391\u001b[0m                                         \u001b[0;34m-\u001b[0m\u001b[0mself\u001b[0m\u001b[0;34m.\u001b[0m\u001b[0mpredict_partial_hazard\u001b[0m\u001b[0;34m(\u001b[0m\u001b[0mself\u001b[0m\u001b[0;34m.\u001b[0m\u001b[0mdata\u001b[0m\u001b[0;34m)\u001b[0m\u001b[0;34m.\u001b[0m\u001b[0mvalues\u001b[0m\u001b[0;34m.\u001b[0m\u001b[0mravel\u001b[0m\u001b[0;34m(\u001b[0m\u001b[0;34m)\u001b[0m\u001b[0;34m,\u001b[0m\u001b[0;34m\u001b[0m\u001b[0m\n\u001b[0;32m--> 392\u001b[0;31m                                         self.event_observed)))\n\u001b[0m\u001b[1;32m    393\u001b[0m         \u001b[0;32mreturn\u001b[0m\u001b[0;34m\u001b[0m\u001b[0m\n\u001b[1;32m    394\u001b[0m \u001b[0;34m\u001b[0m\u001b[0m\n",
      "\u001b[0;32m/Users/shuang/Packages/anaconda2/envs/tensorflow_py35/lib/python3.5/site-packages/lifelines/utils/__init__.py\u001b[0m in \u001b[0;36mconcordance_index\u001b[0;34m(event_times, predicted_event_times, event_observed)\u001b[0m\n\u001b[1;32m    385\u001b[0m     return _concordance_index(event_times,\n\u001b[1;32m    386\u001b[0m                               \u001b[0mpredicted_event_times\u001b[0m\u001b[0;34m,\u001b[0m\u001b[0;34m\u001b[0m\u001b[0m\n\u001b[0;32m--> 387\u001b[0;31m                               event_observed)\n\u001b[0m\u001b[1;32m    388\u001b[0m \u001b[0;34m\u001b[0m\u001b[0m\n\u001b[1;32m    389\u001b[0m \u001b[0;34m\u001b[0m\u001b[0m\n",
      "\u001b[0;32m/Users/shuang/Packages/anaconda2/envs/tensorflow_py35/lib/python3.5/site-packages/lifelines/utils/__init__.py\u001b[0m in \u001b[0;36m_concordance_index\u001b[0;34m(event_times, predicted_event_times, event_observed)\u001b[0m\n\u001b[1;32m    858\u001b[0m             \u001b[0mdied_ix\u001b[0m \u001b[0;34m=\u001b[0m \u001b[0mnext_ix\u001b[0m\u001b[0;34m\u001b[0m\u001b[0m\n\u001b[1;32m    859\u001b[0m         \u001b[0;32melse\u001b[0m\u001b[0;34m:\u001b[0m\u001b[0;34m\u001b[0m\u001b[0m\n\u001b[0;32m--> 860\u001b[0;31m             \u001b[0;32massert\u001b[0m \u001b[0;32mnot\u001b[0m \u001b[0;34m(\u001b[0m\u001b[0mhas_more_died\u001b[0m \u001b[0;32mor\u001b[0m \u001b[0mhas_more_censored\u001b[0m\u001b[0;34m)\u001b[0m\u001b[0;34m\u001b[0m\u001b[0m\n\u001b[0m\u001b[1;32m    861\u001b[0m             \u001b[0;32mbreak\u001b[0m\u001b[0;34m\u001b[0m\u001b[0m\n\u001b[1;32m    862\u001b[0m \u001b[0;34m\u001b[0m\u001b[0m\n",
      "\u001b[0;31mAssertionError\u001b[0m: "
     ]
    }
   ],
   "source": [
    "# try cox regression model example\n",
    "from lifelines import CoxPHFitter\n",
    "import re\n",
    "\n",
    "cph = CoxPHFitter()\n",
    "# print(df_data_all.columns.tolist())\n",
    "# print(her2_outcome.columns.tolist())\n",
    "\n",
    "# select the needed variables\n",
    "outcome_list = ['Recurrence_Type', 'Diseasefree_5yr', 'BoneMetsOrNot','Recurrence_3', 'Recurrence_4','TripleNeg',\n",
    "                'Tumor_Grade','Tumor_Histology', 'T_stage', 'N_stage', 'Overall_stage','BC_subtype']\n",
    "pat = re.compile('texture_|FOstats_|ShapeSize_')\n",
    "feats_name = [ss for ss in df_data_all.columns.tolist() if pat.match(ss)]\n",
    "\n",
    "df_feats = df_data_all.ix[:,['MRN'] + feats_name]\n",
    "\n",
    "outcome_of_interest = ['MRN', 'relapse_free_duration', 'recurrence_observed']\n",
    "df_outcome = her2_outcome_df.ix[:, outcome_of_interest]\n",
    "\n",
    "# print(df_feats)\n",
    "jdf3 = pd.merge(df_feats,df_outcome, on='MRN')\n",
    "# print(jdf3.columns.tolist())\n",
    "\n",
    "# drop redundant or unneeded columns\n",
    "col_name_no_need = ['MRN','FOstats_uniformity_mri', 'texture_correlation_avg_mri', 'texture_energy_avg_mri',\n",
    "                    'texture_idmn_avg_mri', 'texture_idn_avg_mri', 'texture_maxprob_avg_mri', 'texture_idmn_avg_pet']\n",
    "jdf3 = jdf3.drop(col_name_no_need,axis=1)\n",
    "\n",
    "cph.fit(jdf3, duration_col='relapse_free_duration', event_col='recurrence_observed')\n",
    "cph.print_summary()  # access the results using cph.summary\n",
    "\n",
    "# from lifelines.datasets import load_rossi\n",
    "# rossi_dataset = load_rossi()\n",
    "# print(rossi_dataset)\n",
    "# cph = CoxPHFitter()\n",
    "# cph.fit(rossi_dataset, duration_col='week', event_col='arrest')\n",
    "# cph.print_summary()  # access the results using cph.summary"
   ]
  },
  {
   "cell_type": "code",
   "execution_count": null,
   "metadata": {
    "collapsed": true
   },
   "outputs": [],
   "source": []
  }
 ],
 "metadata": {
  "anaconda-cloud": {},
  "kernelspec": {
   "display_name": "Python 3",
   "language": "python",
   "name": "python3"
  },
  "language_info": {
   "codemirror_mode": {
    "name": "ipython",
    "version": 3
   },
   "file_extension": ".py",
   "mimetype": "text/x-python",
   "name": "python",
   "nbconvert_exporter": "python",
   "pygments_lexer": "ipython3",
   "version": "3.5.2"
  }
 },
 "nbformat": 4,
 "nbformat_minor": 1
}
