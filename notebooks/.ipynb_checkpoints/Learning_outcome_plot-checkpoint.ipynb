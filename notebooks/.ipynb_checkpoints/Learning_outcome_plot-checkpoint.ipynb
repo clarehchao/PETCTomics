{
 "cells": [
  {
   "cell_type": "code",
   "execution_count": 1,
   "metadata": {
    "collapsed": false
   },
   "outputs": [
    {
     "name": "stdout",
     "output_type": "stream",
     "text": [
      "Populating the interactive namespace from numpy and matplotlib\n"
     ]
    }
   ],
   "source": [
    "import pandas as pd\n",
    "import numpy as np\n",
    "import seaborn as sns\n",
    "import matplotlib.pyplot as plt\n",
    "% pylab inline\n"
   ]
  },
  {
   "cell_type": "code",
   "execution_count": 2,
   "metadata": {
    "collapsed": false
   },
   "outputs": [
    {
     "name": "stdout",
     "output_type": "stream",
     "text": [
      "             clf_name  n_trial  k_fold         Indep_var Dep_var   AUC_hat  \\\n",
      "0          ElasticNet     1000       3  pet_mr_radiomics  DF_1yr  0.742784   \n",
      "1   L1LiblinearLogReg     1000       3  pet_mr_radiomics  DF_1yr  0.739378   \n",
      "2        L1SagaLogReg     1000       3  pet_mr_radiomics  DF_1yr  0.742883   \n",
      "3       L2LbfgsLogReg     1000       3  pet_mr_radiomics  DF_1yr  0.708602   \n",
      "4         L2SagLogReg     1000       3  pet_mr_radiomics  DF_1yr  0.707886   \n",
      "5    L2NewtoncgLogReg     1000       3  pet_mr_radiomics  DF_1yr  0.704013   \n",
      "6   L2LiblinearLogReg     1000       3  pet_mr_radiomics  DF_1yr  0.706341   \n",
      "7        RandomForest     1000       3  pet_mr_radiomics  DF_1yr  0.714997   \n",
      "8                 SVM     1000       3  pet_mr_radiomics  DF_1yr  0.624502   \n",
      "9          ElasticNet     1000       3  pet_mr_radiomics  DF_2yr  0.681537   \n",
      "10  L1LiblinearLogReg     1000       3  pet_mr_radiomics  DF_2yr  0.637968   \n",
      "11       L1SagaLogReg     1000       3  pet_mr_radiomics  DF_2yr  0.662035   \n",
      "12      L2LbfgsLogReg     1000       3  pet_mr_radiomics  DF_2yr  0.677394   \n",
      "13        L2SagLogReg     1000       3  pet_mr_radiomics  DF_2yr  0.670399   \n",
      "14   L2NewtoncgLogReg     1000       3  pet_mr_radiomics  DF_2yr  0.673921   \n",
      "15  L2LiblinearLogReg     1000       3  pet_mr_radiomics  DF_2yr  0.666389   \n",
      "16       RandomForest     1000       3  pet_mr_radiomics  DF_2yr  0.646259   \n",
      "17                SVM     1000       3  pet_mr_radiomics  DF_2yr  0.644080   \n",
      "18         ElasticNet     1000       3  pet_mr_radiomics  DF_3yr  0.668973   \n",
      "19  L1LiblinearLogReg     1000       3  pet_mr_radiomics  DF_3yr  0.622554   \n",
      "20       L1SagaLogReg     1000       3  pet_mr_radiomics  DF_3yr  0.641921   \n",
      "21      L2LbfgsLogReg     1000       3  pet_mr_radiomics  DF_3yr  0.654344   \n",
      "22        L2SagLogReg     1000       3  pet_mr_radiomics  DF_3yr  0.648627   \n",
      "23   L2NewtoncgLogReg     1000       3  pet_mr_radiomics  DF_3yr  0.655550   \n",
      "24  L2LiblinearLogReg     1000       3  pet_mr_radiomics  DF_3yr  0.638055   \n",
      "25       RandomForest     1000       3  pet_mr_radiomics  DF_3yr  0.665029   \n",
      "26                SVM     1000       3  pet_mr_radiomics  DF_3yr  0.615009   \n",
      "27         ElasticNet     1000       3  pet_mr_radiomics  DF_4yr  0.638437   \n",
      "28  L1LiblinearLogReg     1000       3  pet_mr_radiomics  DF_4yr  0.624161   \n",
      "29       L1SagaLogReg     1000       3  pet_mr_radiomics  DF_4yr  0.628608   \n",
      "30      L2LbfgsLogReg     1000       3  pet_mr_radiomics  DF_4yr  0.649007   \n",
      "31        L2SagLogReg     1000       3  pet_mr_radiomics  DF_4yr  0.653175   \n",
      "32   L2NewtoncgLogReg     1000       3  pet_mr_radiomics  DF_4yr  0.649659   \n",
      "33  L2LiblinearLogReg     1000       3  pet_mr_radiomics  DF_4yr  0.643591   \n",
      "34       RandomForest     1000       3  pet_mr_radiomics  DF_4yr  0.652434   \n",
      "35                SVM     1000       3  pet_mr_radiomics  DF_4yr  0.602707   \n",
      "36         ElasticNet     1000       3  pet_mr_radiomics  DF_5yr  0.568775   \n",
      "37  L1LiblinearLogReg     1000       3  pet_mr_radiomics  DF_5yr  0.546836   \n",
      "38       L1SagaLogReg     1000       3  pet_mr_radiomics  DF_5yr  0.547763   \n",
      "39      L2LbfgsLogReg     1000       3  pet_mr_radiomics  DF_5yr  0.578061   \n",
      "40        L2SagLogReg     1000       3  pet_mr_radiomics  DF_5yr  0.578554   \n",
      "41   L2NewtoncgLogReg     1000       3  pet_mr_radiomics  DF_5yr  0.576338   \n",
      "42  L2LiblinearLogReg     1000       3  pet_mr_radiomics  DF_5yr  0.579354   \n",
      "43       RandomForest     1000       3  pet_mr_radiomics  DF_5yr  0.592690   \n",
      "44                SVM     1000       3  pet_mr_radiomics  DF_5yr  0.471657   \n",
      "\n",
      "       CI_lo     CI_hi              label  \n",
      "0   0.622207  0.884457  0.74 (0.62, 0.88)  \n",
      "1   0.610922  0.887644  0.74 (0.61, 0.89)  \n",
      "2   0.625739  0.880267  0.74 (0.63, 0.88)  \n",
      "3   0.573870  0.889453  0.71 (0.57, 0.89)  \n",
      "4   0.576827  0.886910  0.71 (0.58, 0.89)  \n",
      "5   0.567998  0.892470  0.70 (0.57, 0.89)  \n",
      "6   0.578210  0.882682  0.71 (0.58, 0.88)  \n",
      "7   0.566106  0.879994  0.71 (0.57, 0.88)  \n",
      "8   0.438977  0.847949  0.62 (0.44, 0.85)  \n",
      "9   0.582587  0.806739  0.68 (0.58, 0.81)  \n",
      "10  0.520201  0.760708  0.64 (0.52, 0.76)  \n",
      "11  0.548280  0.802350  0.66 (0.55, 0.80)  \n",
      "12  0.570565  0.788923  0.68 (0.57, 0.79)  \n",
      "13  0.556489  0.791238  0.67 (0.56, 0.79)  \n",
      "14  0.568041  0.785083  0.67 (0.57, 0.79)  \n",
      "15  0.551605  0.791643  0.67 (0.55, 0.79)  \n",
      "16  0.527342  0.786827  0.65 (0.53, 0.79)  \n",
      "17  0.504083  0.833970  0.64 (0.50, 0.83)  \n",
      "18  0.577774  0.776952  0.67 (0.58, 0.78)  \n",
      "19  0.506619  0.757190  0.62 (0.51, 0.76)  \n",
      "20  0.533620  0.763399  0.64 (0.53, 0.76)  \n",
      "21  0.553289  0.763017  0.65 (0.55, 0.76)  \n",
      "22  0.551959  0.764794  0.65 (0.55, 0.76)  \n",
      "23  0.563934  0.761098  0.66 (0.56, 0.76)  \n",
      "24  0.532793  0.769091  0.64 (0.53, 0.77)  \n",
      "25  0.552134  0.794845  0.67 (0.55, 0.79)  \n",
      "26  0.477257  0.810115  0.62 (0.48, 0.81)  \n",
      "27  0.546574  0.745657  0.64 (0.55, 0.75)  \n",
      "28  0.519814  0.744240  0.62 (0.52, 0.74)  \n",
      "29  0.521014  0.748864  0.63 (0.52, 0.75)  \n",
      "30  0.553666  0.754743  0.65 (0.55, 0.75)  \n",
      "31  0.554276  0.756590  0.65 (0.55, 0.76)  \n",
      "32  0.543877  0.755342  0.65 (0.54, 0.76)  \n",
      "33  0.540183  0.753813  0.64 (0.54, 0.75)  \n",
      "34  0.540436  0.784084  0.65 (0.54, 0.78)  \n",
      "35  0.463471  0.793756  0.60 (0.46, 0.79)  \n",
      "36  0.467411  0.682692  0.57 (0.47, 0.68)  \n",
      "37  0.441809  0.661277  0.55 (0.44, 0.66)  \n",
      "38  0.444345  0.670306  0.55 (0.44, 0.67)  \n",
      "39  0.484577  0.694566  0.58 (0.48, 0.69)  \n",
      "40  0.483492  0.687497  0.58 (0.48, 0.69)  \n",
      "41  0.481142  0.689730  0.58 (0.48, 0.69)  \n",
      "42  0.480919  0.695864  0.58 (0.48, 0.70)  \n",
      "43  0.481748  0.713748  0.59 (0.48, 0.71)  \n",
      "44  0.346781  0.596572  0.47 (0.35, 0.60)  \n"
     ]
    }
   ],
   "source": [
    "feat_name = 'pet_mr_radiomics'\n",
    "# feat_name = 'Tumor_Grade'\n",
    "# feat_name = 'BC_subtype'\n",
    "\n",
    "df_yr = range(1,6,1)\n",
    "outcome_names = ['DF_{}yr'.format(yy) for yy in df_yr]\n",
    "# outcome_names = ['DF_2yr']\n",
    "\n",
    "n_trial = 10\n",
    "k_fold = 3\n",
    "\n",
    "rootdir = '/Users/shuang/Documents/Proj_Radiomics/Data/her2'\n",
    "the_mri_tp = 2\n",
    "the_mri_bin_width = 5\n",
    "the_pet_bin_width = 0.1\n",
    "data_dir = '{}/her2_Analysis/PETMRI/PETbinwidth{:.1f}_MRItp{}_binwidth{}/Learner'.format(rootdir,the_pet_bin_width, the_mri_tp, the_mri_bin_width)\n",
    "\n",
    "# fname = '{}/CLF_output_all.csv'.format(data_dir)\n",
    "fname = '{}/CLF_output_all_boostrapCI.csv'.format(data_dir)\n",
    "df_data_all = pd.read_csv(fname)\n",
    "\n",
    "\n",
    "# create custome labels for the display\n",
    "# df_data_all['label'] = df_data_all.apply(lambda row: '{:.2f} ({:.2f}, {:.2f})'.format(row['AUC_mean'], row['CI_lo_mean'], row['CI_hi_mean']), axis=1)\n",
    "df_data_all['label'] = df_data_all.apply(lambda row: '{:.2f} ({:.2f}, {:.2f})'.format(row['AUC_hat'], row['CI_lo'], row['CI_hi']), axis=1)\n",
    "print(df_data_all)"
   ]
  },
  {
   "cell_type": "code",
   "execution_count": 3,
   "metadata": {
    "collapsed": false
   },
   "outputs": [
    {
     "ename": "KeyError",
     "evalue": "'AUC_mean'",
     "output_type": "error",
     "traceback": [
      "\u001b[0;31m---------------------------------------------------------------------------\u001b[0m",
      "\u001b[0;31mKeyError\u001b[0m                                  Traceback (most recent call last)",
      "\u001b[0;32m/Users/shuang/Packages/anaconda2/envs/tensorflow_py35/lib/python3.5/site-packages/pandas/indexes/base.py\u001b[0m in \u001b[0;36mget_loc\u001b[0;34m(self, key, method, tolerance)\u001b[0m\n\u001b[1;32m   2133\u001b[0m             \u001b[0;32mtry\u001b[0m\u001b[0;34m:\u001b[0m\u001b[0;34m\u001b[0m\u001b[0m\n\u001b[0;32m-> 2134\u001b[0;31m                 \u001b[0;32mreturn\u001b[0m \u001b[0mself\u001b[0m\u001b[0;34m.\u001b[0m\u001b[0m_engine\u001b[0m\u001b[0;34m.\u001b[0m\u001b[0mget_loc\u001b[0m\u001b[0;34m(\u001b[0m\u001b[0mkey\u001b[0m\u001b[0;34m)\u001b[0m\u001b[0;34m\u001b[0m\u001b[0m\n\u001b[0m\u001b[1;32m   2135\u001b[0m             \u001b[0;32mexcept\u001b[0m \u001b[0mKeyError\u001b[0m\u001b[0;34m:\u001b[0m\u001b[0;34m\u001b[0m\u001b[0m\n",
      "\u001b[0;32mpandas/index.pyx\u001b[0m in \u001b[0;36mpandas.index.IndexEngine.get_loc (pandas/index.c:4433)\u001b[0;34m()\u001b[0m\n",
      "\u001b[0;32mpandas/index.pyx\u001b[0m in \u001b[0;36mpandas.index.IndexEngine.get_loc (pandas/index.c:4279)\u001b[0;34m()\u001b[0m\n",
      "\u001b[0;32mpandas/src/hashtable_class_helper.pxi\u001b[0m in \u001b[0;36mpandas.hashtable.PyObjectHashTable.get_item (pandas/hashtable.c:13742)\u001b[0;34m()\u001b[0m\n",
      "\u001b[0;32mpandas/src/hashtable_class_helper.pxi\u001b[0m in \u001b[0;36mpandas.hashtable.PyObjectHashTable.get_item (pandas/hashtable.c:13696)\u001b[0;34m()\u001b[0m\n",
      "\u001b[0;31mKeyError\u001b[0m: 'AUC_mean'",
      "\nDuring handling of the above exception, another exception occurred:\n",
      "\u001b[0;31mKeyError\u001b[0m                                  Traceback (most recent call last)",
      "\u001b[0;32m<ipython-input-3-1704fd40fdc3>\u001b[0m in \u001b[0;36m<module>\u001b[0;34m()\u001b[0m\n\u001b[1;32m      1\u001b[0m \u001b[0;31m# plot the auc in a heatmap\u001b[0m\u001b[0;34m\u001b[0m\u001b[0;34m\u001b[0m\u001b[0m\n\u001b[0;32m----> 2\u001b[0;31m \u001b[0mthe_tab\u001b[0m \u001b[0;34m=\u001b[0m \u001b[0mdf_data_all\u001b[0m\u001b[0;34m.\u001b[0m\u001b[0mpivot\u001b[0m\u001b[0;34m(\u001b[0m\u001b[0;34m'clf_name'\u001b[0m\u001b[0;34m,\u001b[0m\u001b[0;34m'Dep_var'\u001b[0m\u001b[0;34m,\u001b[0m\u001b[0;34m'AUC_mean'\u001b[0m\u001b[0;34m)\u001b[0m\u001b[0;34m\u001b[0m\u001b[0m\n\u001b[0m\u001b[1;32m      3\u001b[0m \u001b[0mthe_label\u001b[0m \u001b[0;34m=\u001b[0m \u001b[0mdf_data_all\u001b[0m\u001b[0;34m.\u001b[0m\u001b[0mpivot\u001b[0m\u001b[0;34m(\u001b[0m\u001b[0;34m'clf_name'\u001b[0m\u001b[0;34m,\u001b[0m\u001b[0;34m'Dep_var'\u001b[0m\u001b[0;34m,\u001b[0m\u001b[0;34m'label'\u001b[0m\u001b[0;34m)\u001b[0m\u001b[0;34m\u001b[0m\u001b[0m\n\u001b[1;32m      4\u001b[0m \u001b[0msns\u001b[0m\u001b[0;34m.\u001b[0m\u001b[0mset\u001b[0m\u001b[0;34m(\u001b[0m\u001b[0mfont\u001b[0m\u001b[0;34m=\u001b[0m\u001b[0;34m'Arial'\u001b[0m\u001b[0;34m)\u001b[0m\u001b[0;34m\u001b[0m\u001b[0m\n\u001b[1;32m      5\u001b[0m \u001b[0msns\u001b[0m\u001b[0;34m.\u001b[0m\u001b[0mset_context\u001b[0m\u001b[0;34m(\u001b[0m\u001b[0;34m'paper'\u001b[0m\u001b[0;34m,\u001b[0m \u001b[0mfont_scale\u001b[0m\u001b[0;34m=\u001b[0m\u001b[0;36m1.2\u001b[0m\u001b[0;34m)\u001b[0m\u001b[0;34m\u001b[0m\u001b[0m\n",
      "\u001b[0;32m/Users/shuang/Packages/anaconda2/envs/tensorflow_py35/lib/python3.5/site-packages/pandas/core/frame.py\u001b[0m in \u001b[0;36mpivot\u001b[0;34m(self, index, columns, values)\u001b[0m\n\u001b[1;32m   3933\u001b[0m         \"\"\"\n\u001b[1;32m   3934\u001b[0m         \u001b[0;32mfrom\u001b[0m \u001b[0mpandas\u001b[0m\u001b[0;34m.\u001b[0m\u001b[0mcore\u001b[0m\u001b[0;34m.\u001b[0m\u001b[0mreshape\u001b[0m \u001b[0;32mimport\u001b[0m \u001b[0mpivot\u001b[0m\u001b[0;34m\u001b[0m\u001b[0m\n\u001b[0;32m-> 3935\u001b[0;31m         \u001b[0;32mreturn\u001b[0m \u001b[0mpivot\u001b[0m\u001b[0;34m(\u001b[0m\u001b[0mself\u001b[0m\u001b[0;34m,\u001b[0m \u001b[0mindex\u001b[0m\u001b[0;34m=\u001b[0m\u001b[0mindex\u001b[0m\u001b[0;34m,\u001b[0m \u001b[0mcolumns\u001b[0m\u001b[0;34m=\u001b[0m\u001b[0mcolumns\u001b[0m\u001b[0;34m,\u001b[0m \u001b[0mvalues\u001b[0m\u001b[0;34m=\u001b[0m\u001b[0mvalues\u001b[0m\u001b[0;34m)\u001b[0m\u001b[0;34m\u001b[0m\u001b[0m\n\u001b[0m\u001b[1;32m   3936\u001b[0m \u001b[0;34m\u001b[0m\u001b[0m\n\u001b[1;32m   3937\u001b[0m     \u001b[0;32mdef\u001b[0m \u001b[0mstack\u001b[0m\u001b[0;34m(\u001b[0m\u001b[0mself\u001b[0m\u001b[0;34m,\u001b[0m \u001b[0mlevel\u001b[0m\u001b[0;34m=\u001b[0m\u001b[0;34m-\u001b[0m\u001b[0;36m1\u001b[0m\u001b[0;34m,\u001b[0m \u001b[0mdropna\u001b[0m\u001b[0;34m=\u001b[0m\u001b[0;32mTrue\u001b[0m\u001b[0;34m)\u001b[0m\u001b[0;34m:\u001b[0m\u001b[0;34m\u001b[0m\u001b[0m\n",
      "\u001b[0;32m/Users/shuang/Packages/anaconda2/envs/tensorflow_py35/lib/python3.5/site-packages/pandas/core/reshape.py\u001b[0m in \u001b[0;36mpivot\u001b[0;34m(self, index, columns, values)\u001b[0m\n\u001b[1;32m    334\u001b[0m         \u001b[0;32melse\u001b[0m\u001b[0;34m:\u001b[0m\u001b[0;34m\u001b[0m\u001b[0m\n\u001b[1;32m    335\u001b[0m             \u001b[0mindex\u001b[0m \u001b[0;34m=\u001b[0m \u001b[0mself\u001b[0m\u001b[0;34m[\u001b[0m\u001b[0mindex\u001b[0m\u001b[0;34m]\u001b[0m\u001b[0;34m\u001b[0m\u001b[0m\n\u001b[0;32m--> 336\u001b[0;31m         indexed = Series(self[values].values,\n\u001b[0m\u001b[1;32m    337\u001b[0m                          index=MultiIndex.from_arrays([index, self[columns]]))\n\u001b[1;32m    338\u001b[0m         \u001b[0;32mreturn\u001b[0m \u001b[0mindexed\u001b[0m\u001b[0;34m.\u001b[0m\u001b[0munstack\u001b[0m\u001b[0;34m(\u001b[0m\u001b[0mcolumns\u001b[0m\u001b[0;34m)\u001b[0m\u001b[0;34m\u001b[0m\u001b[0m\n",
      "\u001b[0;32m/Users/shuang/Packages/anaconda2/envs/tensorflow_py35/lib/python3.5/site-packages/pandas/core/frame.py\u001b[0m in \u001b[0;36m__getitem__\u001b[0;34m(self, key)\u001b[0m\n\u001b[1;32m   2057\u001b[0m             \u001b[0;32mreturn\u001b[0m \u001b[0mself\u001b[0m\u001b[0;34m.\u001b[0m\u001b[0m_getitem_multilevel\u001b[0m\u001b[0;34m(\u001b[0m\u001b[0mkey\u001b[0m\u001b[0;34m)\u001b[0m\u001b[0;34m\u001b[0m\u001b[0m\n\u001b[1;32m   2058\u001b[0m         \u001b[0;32melse\u001b[0m\u001b[0;34m:\u001b[0m\u001b[0;34m\u001b[0m\u001b[0m\n\u001b[0;32m-> 2059\u001b[0;31m             \u001b[0;32mreturn\u001b[0m \u001b[0mself\u001b[0m\u001b[0;34m.\u001b[0m\u001b[0m_getitem_column\u001b[0m\u001b[0;34m(\u001b[0m\u001b[0mkey\u001b[0m\u001b[0;34m)\u001b[0m\u001b[0;34m\u001b[0m\u001b[0m\n\u001b[0m\u001b[1;32m   2060\u001b[0m \u001b[0;34m\u001b[0m\u001b[0m\n\u001b[1;32m   2061\u001b[0m     \u001b[0;32mdef\u001b[0m \u001b[0m_getitem_column\u001b[0m\u001b[0;34m(\u001b[0m\u001b[0mself\u001b[0m\u001b[0;34m,\u001b[0m \u001b[0mkey\u001b[0m\u001b[0;34m)\u001b[0m\u001b[0;34m:\u001b[0m\u001b[0;34m\u001b[0m\u001b[0m\n",
      "\u001b[0;32m/Users/shuang/Packages/anaconda2/envs/tensorflow_py35/lib/python3.5/site-packages/pandas/core/frame.py\u001b[0m in \u001b[0;36m_getitem_column\u001b[0;34m(self, key)\u001b[0m\n\u001b[1;32m   2064\u001b[0m         \u001b[0;31m# get column\u001b[0m\u001b[0;34m\u001b[0m\u001b[0;34m\u001b[0m\u001b[0m\n\u001b[1;32m   2065\u001b[0m         \u001b[0;32mif\u001b[0m \u001b[0mself\u001b[0m\u001b[0;34m.\u001b[0m\u001b[0mcolumns\u001b[0m\u001b[0;34m.\u001b[0m\u001b[0mis_unique\u001b[0m\u001b[0;34m:\u001b[0m\u001b[0;34m\u001b[0m\u001b[0m\n\u001b[0;32m-> 2066\u001b[0;31m             \u001b[0;32mreturn\u001b[0m \u001b[0mself\u001b[0m\u001b[0;34m.\u001b[0m\u001b[0m_get_item_cache\u001b[0m\u001b[0;34m(\u001b[0m\u001b[0mkey\u001b[0m\u001b[0;34m)\u001b[0m\u001b[0;34m\u001b[0m\u001b[0m\n\u001b[0m\u001b[1;32m   2067\u001b[0m \u001b[0;34m\u001b[0m\u001b[0m\n\u001b[1;32m   2068\u001b[0m         \u001b[0;31m# duplicate columns & possible reduce dimensionality\u001b[0m\u001b[0;34m\u001b[0m\u001b[0;34m\u001b[0m\u001b[0m\n",
      "\u001b[0;32m/Users/shuang/Packages/anaconda2/envs/tensorflow_py35/lib/python3.5/site-packages/pandas/core/generic.py\u001b[0m in \u001b[0;36m_get_item_cache\u001b[0;34m(self, item)\u001b[0m\n\u001b[1;32m   1384\u001b[0m         \u001b[0mres\u001b[0m \u001b[0;34m=\u001b[0m \u001b[0mcache\u001b[0m\u001b[0;34m.\u001b[0m\u001b[0mget\u001b[0m\u001b[0;34m(\u001b[0m\u001b[0mitem\u001b[0m\u001b[0;34m)\u001b[0m\u001b[0;34m\u001b[0m\u001b[0m\n\u001b[1;32m   1385\u001b[0m         \u001b[0;32mif\u001b[0m \u001b[0mres\u001b[0m \u001b[0;32mis\u001b[0m \u001b[0;32mNone\u001b[0m\u001b[0;34m:\u001b[0m\u001b[0;34m\u001b[0m\u001b[0m\n\u001b[0;32m-> 1386\u001b[0;31m             \u001b[0mvalues\u001b[0m \u001b[0;34m=\u001b[0m \u001b[0mself\u001b[0m\u001b[0;34m.\u001b[0m\u001b[0m_data\u001b[0m\u001b[0;34m.\u001b[0m\u001b[0mget\u001b[0m\u001b[0;34m(\u001b[0m\u001b[0mitem\u001b[0m\u001b[0;34m)\u001b[0m\u001b[0;34m\u001b[0m\u001b[0m\n\u001b[0m\u001b[1;32m   1387\u001b[0m             \u001b[0mres\u001b[0m \u001b[0;34m=\u001b[0m \u001b[0mself\u001b[0m\u001b[0;34m.\u001b[0m\u001b[0m_box_item_values\u001b[0m\u001b[0;34m(\u001b[0m\u001b[0mitem\u001b[0m\u001b[0;34m,\u001b[0m \u001b[0mvalues\u001b[0m\u001b[0;34m)\u001b[0m\u001b[0;34m\u001b[0m\u001b[0m\n\u001b[1;32m   1388\u001b[0m             \u001b[0mcache\u001b[0m\u001b[0;34m[\u001b[0m\u001b[0mitem\u001b[0m\u001b[0;34m]\u001b[0m \u001b[0;34m=\u001b[0m \u001b[0mres\u001b[0m\u001b[0;34m\u001b[0m\u001b[0m\n",
      "\u001b[0;32m/Users/shuang/Packages/anaconda2/envs/tensorflow_py35/lib/python3.5/site-packages/pandas/core/internals.py\u001b[0m in \u001b[0;36mget\u001b[0;34m(self, item, fastpath)\u001b[0m\n\u001b[1;32m   3541\u001b[0m \u001b[0;34m\u001b[0m\u001b[0m\n\u001b[1;32m   3542\u001b[0m             \u001b[0;32mif\u001b[0m \u001b[0;32mnot\u001b[0m \u001b[0misnull\u001b[0m\u001b[0;34m(\u001b[0m\u001b[0mitem\u001b[0m\u001b[0;34m)\u001b[0m\u001b[0;34m:\u001b[0m\u001b[0;34m\u001b[0m\u001b[0m\n\u001b[0;32m-> 3543\u001b[0;31m                 \u001b[0mloc\u001b[0m \u001b[0;34m=\u001b[0m \u001b[0mself\u001b[0m\u001b[0;34m.\u001b[0m\u001b[0mitems\u001b[0m\u001b[0;34m.\u001b[0m\u001b[0mget_loc\u001b[0m\u001b[0;34m(\u001b[0m\u001b[0mitem\u001b[0m\u001b[0;34m)\u001b[0m\u001b[0;34m\u001b[0m\u001b[0m\n\u001b[0m\u001b[1;32m   3544\u001b[0m             \u001b[0;32melse\u001b[0m\u001b[0;34m:\u001b[0m\u001b[0;34m\u001b[0m\u001b[0m\n\u001b[1;32m   3545\u001b[0m                 \u001b[0mindexer\u001b[0m \u001b[0;34m=\u001b[0m \u001b[0mnp\u001b[0m\u001b[0;34m.\u001b[0m\u001b[0marange\u001b[0m\u001b[0;34m(\u001b[0m\u001b[0mlen\u001b[0m\u001b[0;34m(\u001b[0m\u001b[0mself\u001b[0m\u001b[0;34m.\u001b[0m\u001b[0mitems\u001b[0m\u001b[0;34m)\u001b[0m\u001b[0;34m)\u001b[0m\u001b[0;34m[\u001b[0m\u001b[0misnull\u001b[0m\u001b[0;34m(\u001b[0m\u001b[0mself\u001b[0m\u001b[0;34m.\u001b[0m\u001b[0mitems\u001b[0m\u001b[0;34m)\u001b[0m\u001b[0;34m]\u001b[0m\u001b[0;34m\u001b[0m\u001b[0m\n",
      "\u001b[0;32m/Users/shuang/Packages/anaconda2/envs/tensorflow_py35/lib/python3.5/site-packages/pandas/indexes/base.py\u001b[0m in \u001b[0;36mget_loc\u001b[0;34m(self, key, method, tolerance)\u001b[0m\n\u001b[1;32m   2134\u001b[0m                 \u001b[0;32mreturn\u001b[0m \u001b[0mself\u001b[0m\u001b[0;34m.\u001b[0m\u001b[0m_engine\u001b[0m\u001b[0;34m.\u001b[0m\u001b[0mget_loc\u001b[0m\u001b[0;34m(\u001b[0m\u001b[0mkey\u001b[0m\u001b[0;34m)\u001b[0m\u001b[0;34m\u001b[0m\u001b[0m\n\u001b[1;32m   2135\u001b[0m             \u001b[0;32mexcept\u001b[0m \u001b[0mKeyError\u001b[0m\u001b[0;34m:\u001b[0m\u001b[0;34m\u001b[0m\u001b[0m\n\u001b[0;32m-> 2136\u001b[0;31m                 \u001b[0;32mreturn\u001b[0m \u001b[0mself\u001b[0m\u001b[0;34m.\u001b[0m\u001b[0m_engine\u001b[0m\u001b[0;34m.\u001b[0m\u001b[0mget_loc\u001b[0m\u001b[0;34m(\u001b[0m\u001b[0mself\u001b[0m\u001b[0;34m.\u001b[0m\u001b[0m_maybe_cast_indexer\u001b[0m\u001b[0;34m(\u001b[0m\u001b[0mkey\u001b[0m\u001b[0;34m)\u001b[0m\u001b[0;34m)\u001b[0m\u001b[0;34m\u001b[0m\u001b[0m\n\u001b[0m\u001b[1;32m   2137\u001b[0m \u001b[0;34m\u001b[0m\u001b[0m\n\u001b[1;32m   2138\u001b[0m         \u001b[0mindexer\u001b[0m \u001b[0;34m=\u001b[0m \u001b[0mself\u001b[0m\u001b[0;34m.\u001b[0m\u001b[0mget_indexer\u001b[0m\u001b[0;34m(\u001b[0m\u001b[0;34m[\u001b[0m\u001b[0mkey\u001b[0m\u001b[0;34m]\u001b[0m\u001b[0;34m,\u001b[0m \u001b[0mmethod\u001b[0m\u001b[0;34m=\u001b[0m\u001b[0mmethod\u001b[0m\u001b[0;34m,\u001b[0m \u001b[0mtolerance\u001b[0m\u001b[0;34m=\u001b[0m\u001b[0mtolerance\u001b[0m\u001b[0;34m)\u001b[0m\u001b[0;34m\u001b[0m\u001b[0m\n",
      "\u001b[0;32mpandas/index.pyx\u001b[0m in \u001b[0;36mpandas.index.IndexEngine.get_loc (pandas/index.c:4433)\u001b[0;34m()\u001b[0m\n",
      "\u001b[0;32mpandas/index.pyx\u001b[0m in \u001b[0;36mpandas.index.IndexEngine.get_loc (pandas/index.c:4279)\u001b[0;34m()\u001b[0m\n",
      "\u001b[0;32mpandas/src/hashtable_class_helper.pxi\u001b[0m in \u001b[0;36mpandas.hashtable.PyObjectHashTable.get_item (pandas/hashtable.c:13742)\u001b[0;34m()\u001b[0m\n",
      "\u001b[0;32mpandas/src/hashtable_class_helper.pxi\u001b[0m in \u001b[0;36mpandas.hashtable.PyObjectHashTable.get_item (pandas/hashtable.c:13696)\u001b[0;34m()\u001b[0m\n",
      "\u001b[0;31mKeyError\u001b[0m: 'AUC_mean'"
     ]
    }
   ],
   "source": [
    "# plot the auc in a heatmap\n",
    "the_tab = df_data_all.pivot('clf_name','Dep_var','AUC_hat')\n",
    "the_label = df_data_all.pivot('clf_name','Dep_var','label')\n",
    "sns.set(font='Arial')\n",
    "sns.set_context('paper', font_scale=1.2)\n",
    "\n",
    "\n",
    "plt.figure(figsize=(11,8.5))\n",
    "g = sns.heatmap(the_tab, annot = the_label, fmt='', annot_kws={'size':10}, linewidth=0.2, cmap='Blues',\n",
    "                cbar_kws=dict(use_gridspec=False,location=\"top\",label='AUC',shrink=0.3, anchor=(0.0,-0.2)))\n",
    "# g.set(xlabel='Clinical outcome', ylabel='Classification algorithm')\n",
    "g.set_xlabel('Disease-free duration', {'weight': 'bold', 'size': 13})\n",
    "g.set_ylabel('Classification algorithm', {'weight': 'bold', 'size': 13})\n",
    "g.set_xticklabels(['1 year', '2 years', '3 years', '4 years', '5 years'], {'weight': 'bold', 'size': 11})\n",
    "g.set_yticklabels(g.get_yticklabels(), {'weight': 'bold', 'size': 11})\n",
    "# fig_name = '{}/CLF_output_all_Heatmap.pdf'.format(data_dir)\n",
    "fig_name = '{}/CLF_output_all_Heatmap_boostrapCI.pdf'.format(data_dir)\n",
    "# plt.tight_layout()\n",
    "plt.savefig(fig_name, bbox_inches='tight')"
   ]
  },
  {
   "cell_type": "code",
   "execution_count": null,
   "metadata": {
    "collapsed": true
   },
   "outputs": [],
   "source": []
  }
 ],
 "metadata": {
  "anaconda-cloud": {},
  "kernelspec": {
   "display_name": "Python 3",
   "language": "python",
   "name": "python3"
  },
  "language_info": {
   "codemirror_mode": {
    "name": "ipython",
    "version": 3
   },
   "file_extension": ".py",
   "mimetype": "text/x-python",
   "name": "python",
   "nbconvert_exporter": "python",
   "pygments_lexer": "ipython3",
   "version": "3.5.2"
  }
 },
 "nbformat": 4,
 "nbformat_minor": 1
}
