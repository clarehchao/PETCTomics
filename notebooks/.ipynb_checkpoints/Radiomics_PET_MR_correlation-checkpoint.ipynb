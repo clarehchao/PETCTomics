{
 "cells": [
  {
   "cell_type": "code",
   "execution_count": 10,
   "metadata": {
    "collapsed": false
   },
   "outputs": [
    {
     "name": "stdout",
     "output_type": "stream",
     "text": [
      "Populating the interactive namespace from numpy and matplotlib\n"
     ]
    }
   ],
   "source": [
    "import pandas as pd\n",
    "from scipy.stats import zscore\n",
    "import re\n",
    "import seaborn as sns\n",
    "import matplotlib.pyplot as plt\n",
    "% pylab inline"
   ]
  },
  {
   "cell_type": "code",
   "execution_count": 11,
   "metadata": {
    "collapsed": false
   },
   "outputs": [],
   "source": [
    "the_mri_tp = 2\n",
    "the_mri_bin_width = 5\n",
    "the_pet_bin_width = 0.1\n",
    "\n",
    "rootdir = '/Users/shuang/Documents/Proj_Radiomics/Data/her2'\n",
    "im_dir = '{}/her2_Analysis/PETMRI/PETbinwidth{:.1f}_MRItp{}_binwidth{}'.format(rootdir,the_pet_bin_width, the_mri_tp, the_mri_bin_width)\n",
    "fname = '{}/data_all.csv'.format(im_dir)\n",
    "df_data = pd.read_csv(fname)\n",
    "\n",
    "pat = re.compile('texture_|FOstats_|ShapeSize_')\n",
    "feat_names = [ss for ss in df_data.columns.tolist() if pat.match(ss)]\n",
    "feat_tag = 'pet_mr_radiomics'\n",
    "\n",
    "# scale the features to z-score\n",
    "df_data[feat_names] = df_data[feat_names].apply(zscore)\n",
    "\n",
    "df_yr = range(1,6,1)\n",
    "outcome_name_lst = ['DF_{}yr'.format(yy) for yy in df_yr]"
   ]
  },
  {
   "cell_type": "code",
   "execution_count": 4,
   "metadata": {
    "collapsed": false
   },
   "outputs": [],
   "source": [
    "# explore correlation between PET and MR features\n",
    "sns.set(style=\"white\")\n",
    "\n",
    "from string import ascii_letters\n",
    "rs = np.random.RandomState(33)\n",
    "d = pd.DataFrame(data=rs.normal(size=(100, 26)),\n",
    "                 columns=list(ascii_letters[26:]))\n",
    "\n",
    "# Compute the correlation matrix\n",
    "corr = d.corr()"
   ]
  },
  {
   "cell_type": "code",
   "execution_count": 35,
   "metadata": {
    "collapsed": false
   },
   "outputs": [
    {
     "name": "stdout",
     "output_type": "stream",
     "text": [
      "Index(['FOstats_energy', 'FOstats_entropy', 'FOstats_kurtosis', 'FOstats_max',\n",
      "       'FOstats_mean', 'FOstats_min', 'FOstats_skewness', 'FOstats_uniformity',\n",
      "       'FOstats_variance', 'ShapeSize_compactness1', 'ShapeSize_compactness2',\n",
      "       'ShapeSize_max_euc_dis', 'ShapeSize_spherical_disproportion',\n",
      "       'ShapeSize_sphericity', 'ShapeSize_surf_area_cm2',\n",
      "       'ShapeSize_surface2volratio', 'ShapeSize_vol_cm3',\n",
      "       'texture_autocorrelation_avg', 'texture_avg_intensity_avg',\n",
      "       'texture_cluster_prominence_avg', 'texture_cluster_shade_avg',\n",
      "       'texture_cluster_tendency_avg', 'texture_contrast_avg',\n",
      "       'texture_correlation_avg', 'texture_diff_avg_avg',\n",
      "       'texture_diff_entropy_avg', 'texture_diff_var_avg',\n",
      "       'texture_dissimilarity_avg', 'texture_energy_avg',\n",
      "       'texture_entropy_avg', 'texture_homogeneity1_avg',\n",
      "       'texture_homogeneity2_avg', 'texture_idmn_avg', 'texture_idn_avg',\n",
      "       'texture_imc1_avg', 'texture_imc2_avg', 'texture_inv_var_avg',\n",
      "       'texture_maxprob_avg', 'texture_sum_avg_avg', 'texture_sum_entropy_avg',\n",
      "       'texture_sum_squares_avg', 'texture_sum_var_avg'],\n",
      "      dtype='object', name='feat_name')\n",
      "Index(['FOstats_energy', 'FOstats_entropy', 'FOstats_kurtosis', 'FOstats_max',\n",
      "       'FOstats_mean', 'FOstats_min', 'FOstats_skewness', 'FOstats_uniformity',\n",
      "       'FOstats_variance', 'ShapeSize_compactness1', 'ShapeSize_compactness2',\n",
      "       'ShapeSize_max_euc_dis', 'ShapeSize_spherical_disproportion',\n",
      "       'ShapeSize_sphericity', 'ShapeSize_surf_area_cm2',\n",
      "       'ShapeSize_surface2volratio', 'ShapeSize_vol_cm3',\n",
      "       'texture_autocorrelation_avg', 'texture_avg_intensity_avg',\n",
      "       'texture_cluster_prominence_avg', 'texture_cluster_shade_avg',\n",
      "       'texture_cluster_tendency_avg', 'texture_contrast_avg',\n",
      "       'texture_correlation_avg', 'texture_diff_avg_avg',\n",
      "       'texture_diff_entropy_avg', 'texture_diff_var_avg',\n",
      "       'texture_dissimilarity_avg', 'texture_energy_avg',\n",
      "       'texture_entropy_avg', 'texture_homogeneity1_avg',\n",
      "       'texture_homogeneity2_avg', 'texture_idmn_avg', 'texture_idn_avg',\n",
      "       'texture_imc1_avg', 'texture_imc2_avg', 'texture_inv_var_avg',\n",
      "       'texture_maxprob_avg', 'texture_sum_avg_avg', 'texture_sum_entropy_avg',\n",
      "       'texture_sum_squares_avg', 'texture_sum_var_avg'],\n",
      "      dtype='object', name='feat_name')\n"
     ]
    }
   ],
   "source": [
    "the_df = df_data[feat_names]\n",
    "the_df.reset_index(inplace=True)\n",
    "\n",
    "# label the data accordingly to evaluate correlation between PET vs MR features\n",
    "df_melt = pd.melt(the_df, id_vars=['index'], value_vars=feat_names)\n",
    "\n",
    "# select PET and MR specific\n",
    "\n",
    "df_melt['feat_name'] = df_melt['variable'].map(lambda x: re.search('(.+)_(\\w+)',x).group(1) if re.search('(.+)_(\\w+)',x) else np.nan)\n",
    "df_melt['modality'] = df_melt['variable'].map(lambda x: re.search('(.+)_(\\w+)',x).group(2) if re.search('(.+)_(\\w+)',x) else np.nan)\n",
    "\n",
    "df_mri = df_melt.ix[df_melt['modality'] == 'mri', :]\n",
    "df_mri = df_mri.pivot(index='index', columns='feat_name', values='value')\n",
    "radiomic_feats = df_mri.columns.tolist()\n",
    "print(df_mri.columns)\n",
    "\n",
    "df_pet = df_melt.ix[df_melt['modality'] == 'pet', :]\n",
    "df_pet = df_pet.pivot(index='index', columns='feat_name', values='value')\n",
    "df_pet = df_pet.ix[:, radiomic_feats]\n",
    "print(df_pet.columns)\n"
   ]
  },
  {
   "cell_type": "code",
   "execution_count": 37,
   "metadata": {
    "collapsed": false
   },
   "outputs": [
    {
     "name": "stdout",
     "output_type": "stream",
     "text": [
      "feat_name\n",
      "FOstats_energy                      -0.041510\n",
      "FOstats_entropy                      0.140521\n",
      "FOstats_kurtosis                    -0.015174\n",
      "FOstats_max                          0.090279\n",
      "FOstats_mean                        -0.006514\n",
      "FOstats_min                         -0.120271\n",
      "FOstats_skewness                     0.011396\n",
      "FOstats_uniformity                   0.125474\n",
      "FOstats_variance                    -0.040290\n",
      "ShapeSize_compactness1               0.676526\n",
      "ShapeSize_compactness2               0.182927\n",
      "ShapeSize_max_euc_dis                0.446434\n",
      "ShapeSize_spherical_disproportion    0.235068\n",
      "ShapeSize_sphericity                 0.227526\n",
      "ShapeSize_surf_area_cm2              0.563796\n",
      "ShapeSize_surface2volratio           0.329349\n",
      "ShapeSize_vol_cm3                    0.630621\n",
      "texture_autocorrelation_avg         -0.063262\n",
      "texture_avg_intensity_avg           -0.010339\n",
      "texture_cluster_prominence_avg      -0.011068\n",
      "texture_cluster_shade_avg            0.105885\n",
      "texture_cluster_tendency_avg        -0.032821\n",
      "texture_contrast_avg                -0.089096\n",
      "texture_correlation_avg              0.181295\n",
      "texture_diff_avg_avg                -0.068951\n",
      "texture_diff_entropy_avg             0.072934\n",
      "texture_diff_var_avg                -0.076600\n",
      "texture_dissimilarity_avg           -0.068951\n",
      "texture_energy_avg                   0.028344\n",
      "texture_entropy_avg                  0.230517\n",
      "texture_homogeneity1_avg             0.013004\n",
      "texture_homogeneity2_avg             0.012274\n",
      "texture_idmn_avg                    -0.178923\n",
      "texture_idn_avg                     -0.289394\n",
      "texture_imc1_avg                    -0.180956\n",
      "texture_imc2_avg                    -0.015760\n",
      "texture_inv_var_avg                  0.049251\n",
      "texture_maxprob_avg                  0.022245\n",
      "texture_sum_avg_avg                 -0.010339\n",
      "texture_sum_entropy_avg              0.159617\n",
      "texture_sum_squares_avg             -0.039162\n",
      "texture_sum_var_avg                 -0.063886\n",
      "dtype: float64\n"
     ]
    }
   ],
   "source": [
    "sns.set(style=\"white\")\n",
    "cmap = sns.diverging_palette(220, 10, as_cmap=True)\n",
    "\n",
    "corr = df_mri.corrwith(df_pet)\n",
    "print(corr)\n",
    "\n",
    "#TODO: maybe select a subset of df.corr() to plot for radiomics between PET and MR instead of doing df_mri.corrwith(df_pet)\n",
    "\n",
    "\n",
    "# sns.heatmap(corr, cmap=cmap, vmax=.3, center=0,square=True, linewidths=.5, cbar_kws={\"shrink\": .5})"
   ]
  },
  {
   "cell_type": "code",
   "execution_count": 31,
   "metadata": {
    "collapsed": false
   },
   "outputs": [
    {
     "data": {
      "text/plain": [
       "Index(['index', 'variable', 'value', 'feat_name', 'modality'], dtype='object')"
      ]
     },
     "execution_count": 31,
     "metadata": {},
     "output_type": "execute_result"
    }
   ],
   "source": [
    "df_mri.columns"
   ]
  },
  {
   "cell_type": "code",
   "execution_count": null,
   "metadata": {
    "collapsed": true
   },
   "outputs": [],
   "source": []
  }
 ],
 "metadata": {
  "kernelspec": {
   "display_name": "Python 3",
   "language": "python",
   "name": "python3"
  },
  "language_info": {
   "codemirror_mode": {
    "name": "ipython",
    "version": 3
   },
   "file_extension": ".py",
   "mimetype": "text/x-python",
   "name": "python",
   "nbconvert_exporter": "python",
   "pygments_lexer": "ipython3",
   "version": "3.5.2"
  }
 },
 "nbformat": 4,
 "nbformat_minor": 2
}
