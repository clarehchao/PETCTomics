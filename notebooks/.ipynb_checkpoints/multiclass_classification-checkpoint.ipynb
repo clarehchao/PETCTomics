{
 "cells": [
  {
   "cell_type": "code",
   "execution_count": 14,
   "metadata": {
    "collapsed": false
   },
   "outputs": [
    {
     "name": "stdout",
     "output_type": "stream",
     "text": [
      "[0 0 0 0 0 0 0 0 0 0 0 0 0 0 0 0 0 0 0 0 0 0 0 0 0 0 0 0 0 0 0 0 0 0 0 0 0\n",
      " 0 0 0 0 0 0 0 0 0 0 0 0 0 1 1 1 1 1 1 1 1 1 1 1 1 1 1 1 1 1 1 1 1 1 1 1 1\n",
      " 1 1 1 1 1 1 1 1 1 1 1 1 1 1 1 1 1 1 1 1 1 1 1 1 1 1 2 2 2 2 2 2 2 2 2 2 2\n",
      " 2 2 2 2 2 2 2 2 2 2 2 2 2 2 2 2 2 2 2 2 2 2 2 2 2 2 2 2 2 2 2 2 2 2 2 2 2\n",
      " 2 2]\n"
     ]
    }
   ],
   "source": [
    "from sklearn import datasets\n",
    "from sklearn.multiclass import OneVsRestClassifier\n",
    "from sklearn.svm import LinearSVC\n",
    "iris = datasets.load_iris()\n",
    "X, y = iris.data, iris.target\n",
    "\n",
    "print(y)"
   ]
  },
  {
   "cell_type": "code",
   "execution_count": 3,
   "metadata": {
    "collapsed": false
   },
   "outputs": [
    {
     "data": {
      "text/plain": [
       "array([0, 0, 0, 0, 0, 0, 0, 0, 0, 0, 0, 0, 0, 0, 0, 0, 0, 0, 0, 0, 0, 0, 0,\n",
       "       0, 0, 0, 0, 0, 0, 0, 0, 0, 0, 0, 0, 0, 0, 0, 0, 0, 0, 0, 0, 0, 0, 0,\n",
       "       0, 0, 0, 0, 1, 1, 1, 1, 1, 1, 1, 1, 1, 1, 1, 1, 1, 1, 1, 1, 1, 1, 1,\n",
       "       1, 2, 1, 1, 1, 1, 1, 1, 1, 1, 1, 1, 1, 1, 2, 2, 1, 1, 1, 1, 1, 1, 1,\n",
       "       1, 1, 1, 1, 1, 1, 1, 1, 2, 2, 2, 2, 2, 2, 2, 2, 2, 2, 2, 2, 2, 2, 2,\n",
       "       2, 2, 2, 2, 2, 2, 2, 2, 2, 2, 2, 2, 2, 2, 1, 2, 2, 2, 1, 2, 2, 2, 2,\n",
       "       2, 2, 2, 2, 2, 2, 2, 2, 2, 2, 2, 2])"
      ]
     },
     "execution_count": 3,
     "metadata": {},
     "output_type": "execute_result"
    }
   ],
   "source": [
    "OneVsRestClassifier(LinearSVC(random_state=0)).fit(X, y).predict(X)"
   ]
  },
  {
   "cell_type": "code",
   "execution_count": 4,
   "metadata": {
    "collapsed": false
   },
   "outputs": [
    {
     "name": "stdout",
     "output_type": "stream",
     "text": [
      "Automatically created module for IPython interactive environment\n"
     ]
    }
   ],
   "source": [
    "#another example: multiclass AUC\n",
    "print(__doc__)\n",
    "\n",
    "import numpy as np\n",
    "import matplotlib.pyplot as plt\n",
    "from itertools import cycle\n",
    "\n",
    "from sklearn import svm, datasets\n",
    "from sklearn.metrics import roc_curve, auc\n",
    "from sklearn.model_selection import train_test_split\n",
    "from sklearn.preprocessing import label_binarize\n",
    "from sklearn.multiclass import OneVsRestClassifier\n",
    "from scipy import interp\n",
    "\n",
    "# Import some data to play with\n",
    "iris = datasets.load_iris()\n",
    "X = iris.data\n",
    "y = iris.target\n",
    "\n",
    "# Binarize the output\n",
    "y = label_binarize(y, classes=[0, 1, 2])\n",
    "n_classes = y.shape[1]\n",
    "\n",
    "# Add noisy features to make the problem harder\n",
    "random_state = np.random.RandomState(0)\n",
    "n_samples, n_features = X.shape\n",
    "X = np.c_[X, random_state.randn(n_samples, 200 * n_features)]\n",
    "\n",
    "# shuffle and split training and test sets\n",
    "X_train, X_test, y_train, y_test = train_test_split(X, y, test_size=.5,\n",
    "                                                    random_state=0)\n"
   ]
  },
  {
   "cell_type": "code",
   "execution_count": 12,
   "metadata": {
    "collapsed": false
   },
   "outputs": [
    {
     "name": "stdout",
     "output_type": "stream",
     "text": [
      "(75, 3)\n",
      "(225,)\n",
      "[-0.76305896 -0.36472635  0.1239796  -0.20238399 -0.63148982 -0.16616656\n",
      "  0.11808492 -0.80262259 -0.32062486 -0.90750303 -0.1239792   0.02184016\n",
      " -0.01108555 -0.27918155 -0.71882525 -0.60521037 -0.34728075 -0.05851787\n",
      "  0.02264569 -0.24507866 -0.79094201 -0.61115098  0.1827259  -0.57154703\n",
      " -0.37590649 -0.24062697 -0.38892819 -0.47019698 -0.25733679 -0.27501927\n",
      " -0.42194767 -0.30275351 -0.28027547 -0.33545871 -0.70306393  0.02538619\n",
      " -0.22711497 -0.64064389 -0.13452752 -0.07836815 -0.46342889 -0.45930643\n",
      " -0.533757   -0.26521263 -0.20026826  0.09973063 -0.55326984 -0.56156984\n",
      " -0.71354879 -0.04231832 -0.24317009 -0.55067912 -0.13785396 -0.31413579\n",
      "  0.37989555 -0.99673681 -0.3909524  -0.11088917 -0.91357544  0.03129667\n",
      " -0.70721114 -0.06430956 -0.21412904 -0.02407429 -0.45895598 -0.51928682\n",
      " -0.25004251 -0.80100991  0.04076059  0.12688003 -0.70987418 -0.41083444\n",
      " -0.68224184 -0.20724969 -0.1202643  -0.0800568  -0.36695547 -0.57664396\n",
      " -0.03254409 -0.11603038 -0.8648849  -0.04974597 -0.73610513 -0.21652326\n",
      " -0.13003384 -0.37669991 -0.49962148 -0.19289268 -0.71079054 -0.11051706\n",
      " -0.36221002 -0.41410723 -0.2273942  -0.2284516  -0.78973024  0.02074984\n",
      " -0.06178684 -0.47628223 -0.45378569 -0.52446923 -0.46496654 -0.00359355\n",
      " -0.40029714 -0.71472476  0.10099661 -0.3511887  -0.31112596 -0.33970555\n",
      " -0.05774206 -0.51400526 -0.41773929 -1.11908314 -0.00736339  0.12950484\n",
      "  0.19597017 -0.65775051 -0.54614202 -0.04342577 -0.60042226 -0.35868612\n",
      " -0.4812135  -0.21920638 -0.30068446  0.17431275 -1.0108599  -0.18121717\n",
      " -0.41431727 -0.60032358  0.00863558 -0.01086869 -0.75802709 -0.22892428\n",
      "  0.01626312 -0.8156017  -0.20376516 -0.11923774 -0.84788528 -0.05836804\n",
      " -0.70843733 -0.286195   -0.01169663 -0.77322168 -0.43208966  0.21330137\n",
      " -0.61461496 -0.15074926 -0.23335428 -0.96335686 -0.62814722  0.58431039\n",
      " -0.31000437 -0.29574607 -0.3941874  -0.31988026 -0.34629128 -0.32066024\n",
      " -0.35307167 -0.66921938  0.00761443  0.12141618 -0.62483742 -0.50579325\n",
      " -0.66412149 -0.11447286 -0.21316263 -0.55119677 -0.34855218 -0.10579228\n",
      " -0.55717268 -0.13386492 -0.30604104 -0.41121128 -0.52473406 -0.07437911\n",
      " -0.49442008 -0.2332585  -0.27820574  0.06881717 -0.85437126 -0.21661728\n",
      " -0.23058968 -0.48751709 -0.28302624  0.30309598 -0.83392326 -0.47723277\n",
      "  0.17584119 -0.81582683 -0.37510759 -0.19111926 -0.70824907 -0.10203375\n",
      " -0.42896846 -0.3990632  -0.16931316 -0.67758109  0.09202727 -0.39954675\n",
      " -0.32984013 -0.56568558 -0.1204075  -0.97144386 -0.46477124  0.41494993\n",
      "  0.02097654 -0.56915133 -0.44612973 -0.08193282 -0.56128644 -0.35207865\n",
      " -0.41489593 -0.63695943  0.04859412 -0.30434286 -0.08424982 -0.61862499\n",
      "  0.18874747 -0.88796087 -0.29723377  0.24975994 -0.80511827 -0.44319443\n",
      " -0.39991848 -0.29010996 -0.30381285]\n",
      "[0 0 1 0 1 0 1 0 0 0 0 1 1 0 0 0 0 1 1 0 0 0 1 0 0 1 0 0 1 0 0 0 1 0 1 0 0\n",
      " 1 0 0 1 0 0 1 0 1 0 0 0 1 0 0 1 0 1 0 0 1 0 0 0 0 1 0 1 0 1 0 0 1 0 0 0 0\n",
      " 1 1 0 0 1 0 0 0 1 0 0 1 0 1 0 0 0 0 1 0 1 0 1 0 0 0 0 1 0 0 1 0 1 0 1 0 0\n",
      " 0 1 0 0 1 0 0 1 0 0 0 1 1 0 0 0 0 1 1 0 0 1 0 0 0 1 0 0 0 1 0 0 1 0 0 1 0\n",
      " 0 1 0 1 0 0 0 1 0 1 0 0 1 0 0 0 1 0 0 1 0 0 1 0 0 1 0 1 0 0 0 1 0 1 0 1 0\n",
      " 0 0 0 1 0 1 0 0 1 0 0 1 0 0 1 0 0 0 1 1 0 0 1 0 0 0 0 1 0 1 0 1 0 0 1 0 0\n",
      " 0 1 0]\n"
     ]
    }
   ],
   "source": [
    "# Learn to predict each class against the other\n",
    "classifier = OneVsRestClassifier(svm.SVC(kernel='linear', probability=True,\n",
    "                                 random_state=random_state))\n",
    "y_score = classifier.fit(X_train, y_train).decision_function(X_test)\n",
    "print(y_score.shape)\n",
    "print(y_score.ravel().shape)\n",
    "\n",
    "print(y_score.ravel())\n",
    "print(y_test.ravel())\n"
   ]
  },
  {
   "cell_type": "code",
   "execution_count": 25,
   "metadata": {
    "collapsed": false
   },
   "outputs": [
    {
     "name": "stdout",
     "output_type": "stream",
     "text": [
      "3\n",
      "(75,)\n",
      "[[ -1.10465714e+00  -3.53498524e-01   1.45815567e+00]\n",
      " [  3.86209099e-01  -1.01392588e+00   6.27716778e-01]\n",
      " [  1.52621514e+00  -1.52661732e+00   4.02177178e-04]\n",
      " [ -1.56976079e+00   5.92416979e-01   9.77343809e-01]\n",
      " [  1.08615036e+00   1.57704090e-01  -1.24385445e+00]\n",
      " [ -6.56605432e-01  -1.82667447e-01   8.39272879e-01]\n",
      " [  1.21116298e+00   1.72783514e-01  -1.38394649e+00]\n",
      " [ -7.58400442e-01   1.40938310e+00  -6.50982655e-01]\n",
      " [  1.55785509e-01   4.32621580e-02  -1.99047667e-01]\n",
      " [ -4.31128036e-01   1.94309575e-01   2.36818460e-01]\n",
      " [ -2.28611266e-01   5.11459861e-02   1.77465280e-01]\n",
      " [  8.92261535e-02  -1.21769939e+00   1.12847324e+00]\n",
      " [  3.01089701e-01  -8.84672594e-01   5.83582893e-01]\n",
      " [  9.33273290e-01  -6.38837555e-01  -2.94435735e-01]\n",
      " [ -5.03366565e-01   1.13664405e-01   3.89702160e-01]\n",
      " [  1.53680374e+00  -7.59362539e-01  -7.77441198e-01]\n",
      " [ -1.02769883e+00   6.44321487e-01   3.83377339e-01]\n",
      " [ -5.93516054e-01   6.32404467e-01  -3.88884133e-02]\n",
      " [  2.13387890e+00  -2.07469868e+00  -5.91802143e-02]\n",
      " [  7.66794498e-01  -1.85482375e+00   1.08802925e+00]\n",
      " [ -1.09582503e+00   7.63608883e-01   3.32216146e-01]\n",
      " [  9.36915821e-01  -3.34754963e-01  -6.02160858e-01]\n",
      " [  4.60705046e-01  -1.59394858e+00   1.13324353e+00]\n",
      " [  1.48022035e+00  -1.34415532e+00  -1.36065027e-01]\n",
      " [ -9.41097157e-01   4.24898630e-01   5.16198527e-01]\n",
      " [  9.67405127e-01  -1.39761965e-01  -8.27643162e-01]\n",
      " [  1.07103873e+00   6.89376216e-01  -1.76041494e+00]\n",
      " [  8.21842627e-01  -1.23400476e+00   4.12162137e-01]\n",
      " [  6.74127997e-01  -1.23722939e-01  -5.50405058e-01]\n",
      " [  5.43261460e-01  -1.29052170e+00   7.47260236e-01]\n",
      " [ -1.16260875e-01  -1.39123364e-01   2.55384239e-01]\n",
      " [  5.57110273e-01  -1.66318148e+00   1.10607121e+00]\n",
      " [  9.39436914e-01  -5.26231747e-01  -4.13205167e-01]\n",
      " [ -6.46907589e-01  -2.99075713e-01   9.45983302e-01]\n",
      " [ -1.57396906e-01  -1.20963284e+00   1.36702974e+00]\n",
      " [  8.06238522e-02  -1.75845953e-01   9.52221004e-02]\n",
      " [  8.67272330e-01  -6.04164341e-01  -2.63107989e-01]\n",
      " [ -2.25619754e+00   8.09741425e-01   1.44645612e+00]\n",
      " [  1.74817873e+00  -1.00588506e+00  -7.42293661e-01]\n",
      " [  9.14537464e-01  -8.85530828e-01  -2.90066363e-02]\n",
      " [ -5.67592625e-01   5.60693107e-01   6.89951821e-03]\n",
      " [  1.59505066e+00  -1.93031604e+00   3.35265380e-01]\n",
      " [ -2.15836037e-01  -8.91193041e-01   1.10702908e+00]\n",
      " [  1.16311663e+00  -1.50240337e+00   3.39286740e-01]\n",
      " [  1.10871862e+00  -1.57270156e+00   4.63982937e-01]\n",
      " [  8.05704925e-01  -1.64577555e+00   8.40070625e-01]\n",
      " [ -1.03667680e+00   4.24383960e-02   9.94238400e-01]\n",
      " [ -1.33957799e+00  -3.78434498e-01   1.71801249e+00]\n",
      " [ -8.96787408e-01   5.19409967e-01   3.77377441e-01]\n",
      " [ -1.96103250e+00  -9.27749534e-01   2.88878203e+00]\n",
      " [  2.51015340e-01  -7.59659368e-02  -1.75049403e-01]\n",
      " [  2.05838581e-01  -3.07415923e-01   1.01577343e-01]\n",
      " [  1.18597779e-02  -1.22409225e+00   1.21223247e+00]\n",
      " [  1.43177314e+00  -9.13088684e-01  -5.18684457e-01]\n",
      " [ -8.20582498e-01   3.87247945e-01   4.33334553e-01]\n",
      " [ -6.35094296e-01  -2.55305677e-01   8.90399973e-01]\n",
      " [ -5.74709293e-01   4.74870952e-01   9.98383411e-02]\n",
      " [ -9.00143634e-02  -6.52651990e-01   7.42666353e-01]\n",
      " [ -3.45000084e-01   1.67440474e-01   1.77559610e-01]\n",
      " [  1.32474031e+00  -1.62071478e+00   2.95974470e-01]\n",
      " [  3.52151179e-01  -5.55348059e-01   2.03196880e-01]\n",
      " [  1.96996607e+00  -1.55200018e+00  -4.17965889e-01]\n",
      " [  1.69727725e+00  -1.39451099e+00  -3.02766262e-01]\n",
      " [  4.54385045e-01  -1.16098906e+00   7.06604011e-01]\n",
      " [ -3.04156130e-01  -1.79327033e-01   4.83483163e-01]\n",
      " [ -1.07218931e+00   1.11355623e+00  -4.13669170e-02]\n",
      " [ -1.83686033e-02  -7.39106338e-01   7.57474941e-01]\n",
      " [ -1.90317432e+00  -5.14986168e-01   2.41816048e+00]\n",
      " [  1.03266747e+00  -7.06251699e-01  -3.26415776e-01]\n",
      " [  8.42553437e-01  -7.58471621e-01  -8.40818162e-02]\n",
      " [ -1.33081953e-01  -9.80192050e-01   1.11327400e+00]\n",
      " [  2.33471108e-02   7.56844852e-01  -7.80191963e-01]\n",
      " [  1.46702209e+00  -1.59942079e+00   1.32398708e-01]\n",
      " [  1.77722823e+00  -1.36833100e+00  -4.08897233e-01]\n",
      " [ -1.41195811e-01  -8.95705331e-02   2.30766344e-01]]\n"
     ]
    },
    {
     "ename": "ValueError",
     "evalue": "Data is not binary and pos_label is not specified",
     "output_type": "error",
     "traceback": [
      "\u001b[0;31m---------------------------------------------------------------------------\u001b[0m",
      "\u001b[0;31mValueError\u001b[0m                                Traceback (most recent call last)",
      "\u001b[0;32m<ipython-input-25-516f926d6197>\u001b[0m in \u001b[0;36m<module>\u001b[0;34m()\u001b[0m\n\u001b[1;32m     26\u001b[0m \u001b[0mroc_auc\u001b[0m \u001b[0;34m=\u001b[0m \u001b[0mdict\u001b[0m\u001b[0;34m(\u001b[0m\u001b[0;34m)\u001b[0m\u001b[0;34m\u001b[0m\u001b[0m\n\u001b[1;32m     27\u001b[0m \u001b[0;32mfor\u001b[0m \u001b[0mi\u001b[0m \u001b[0;32min\u001b[0m \u001b[0mrange\u001b[0m\u001b[0;34m(\u001b[0m\u001b[0mn_classes\u001b[0m\u001b[0;34m)\u001b[0m\u001b[0;34m:\u001b[0m\u001b[0;34m\u001b[0m\u001b[0m\n\u001b[0;32m---> 28\u001b[0;31m     \u001b[0mfpr\u001b[0m\u001b[0;34m[\u001b[0m\u001b[0mi\u001b[0m\u001b[0;34m]\u001b[0m\u001b[0;34m,\u001b[0m \u001b[0mtpr\u001b[0m\u001b[0;34m[\u001b[0m\u001b[0mi\u001b[0m\u001b[0;34m]\u001b[0m\u001b[0;34m,\u001b[0m \u001b[0m_\u001b[0m \u001b[0;34m=\u001b[0m \u001b[0mroc_curve\u001b[0m\u001b[0;34m(\u001b[0m\u001b[0my_test\u001b[0m\u001b[0;34m,\u001b[0m \u001b[0my_score2\u001b[0m\u001b[0;34m[\u001b[0m\u001b[0;34m:\u001b[0m\u001b[0;34m,\u001b[0m \u001b[0mi\u001b[0m\u001b[0;34m]\u001b[0m\u001b[0;34m)\u001b[0m\u001b[0;34m\u001b[0m\u001b[0m\n\u001b[0m\u001b[1;32m     29\u001b[0m     \u001b[0mroc_auc\u001b[0m\u001b[0;34m[\u001b[0m\u001b[0mi\u001b[0m\u001b[0;34m]\u001b[0m \u001b[0;34m=\u001b[0m \u001b[0mauc\u001b[0m\u001b[0;34m(\u001b[0m\u001b[0mfpr\u001b[0m\u001b[0;34m[\u001b[0m\u001b[0mi\u001b[0m\u001b[0;34m]\u001b[0m\u001b[0;34m,\u001b[0m \u001b[0mtpr\u001b[0m\u001b[0;34m[\u001b[0m\u001b[0mi\u001b[0m\u001b[0;34m]\u001b[0m\u001b[0;34m)\u001b[0m\u001b[0;34m\u001b[0m\u001b[0m\n\u001b[1;32m     30\u001b[0m \u001b[0;34m\u001b[0m\u001b[0m\n",
      "\u001b[0;32m/Users/shuang/Packages/anaconda2/envs/tensorflow_py35/lib/python3.5/site-packages/sklearn/metrics/ranking.py\u001b[0m in \u001b[0;36mroc_curve\u001b[0;34m(y_true, y_score, pos_label, sample_weight, drop_intermediate)\u001b[0m\n\u001b[1;32m    508\u001b[0m     \"\"\"\n\u001b[1;32m    509\u001b[0m     fps, tps, thresholds = _binary_clf_curve(\n\u001b[0;32m--> 510\u001b[0;31m         y_true, y_score, pos_label=pos_label, sample_weight=sample_weight)\n\u001b[0m\u001b[1;32m    511\u001b[0m \u001b[0;34m\u001b[0m\u001b[0m\n\u001b[1;32m    512\u001b[0m     \u001b[0;31m# Attempt to drop thresholds corresponding to points in between and\u001b[0m\u001b[0;34m\u001b[0m\u001b[0;34m\u001b[0m\u001b[0m\n",
      "\u001b[0;32m/Users/shuang/Packages/anaconda2/envs/tensorflow_py35/lib/python3.5/site-packages/sklearn/metrics/ranking.py\u001b[0m in \u001b[0;36m_binary_clf_curve\u001b[0;34m(y_true, y_score, pos_label, sample_weight)\u001b[0m\n\u001b[1;32m    317\u001b[0m              \u001b[0mnp\u001b[0m\u001b[0;34m.\u001b[0m\u001b[0marray_equal\u001b[0m\u001b[0;34m(\u001b[0m\u001b[0mclasses\u001b[0m\u001b[0;34m,\u001b[0m \u001b[0;34m[\u001b[0m\u001b[0;34m-\u001b[0m\u001b[0;36m1\u001b[0m\u001b[0;34m]\u001b[0m\u001b[0;34m)\u001b[0m \u001b[0;32mor\u001b[0m\u001b[0;34m\u001b[0m\u001b[0m\n\u001b[1;32m    318\u001b[0m              np.array_equal(classes, [1]))):\n\u001b[0;32m--> 319\u001b[0;31m         \u001b[0;32mraise\u001b[0m \u001b[0mValueError\u001b[0m\u001b[0;34m(\u001b[0m\u001b[0;34m\"Data is not binary and pos_label is not specified\"\u001b[0m\u001b[0;34m)\u001b[0m\u001b[0;34m\u001b[0m\u001b[0m\n\u001b[0m\u001b[1;32m    320\u001b[0m     \u001b[0;32melif\u001b[0m \u001b[0mpos_label\u001b[0m \u001b[0;32mis\u001b[0m \u001b[0;32mNone\u001b[0m\u001b[0;34m:\u001b[0m\u001b[0;34m\u001b[0m\u001b[0m\n\u001b[1;32m    321\u001b[0m         \u001b[0mpos_label\u001b[0m \u001b[0;34m=\u001b[0m \u001b[0;36m1.\u001b[0m\u001b[0;34m\u001b[0m\u001b[0m\n",
      "\u001b[0;31mValueError\u001b[0m: Data is not binary and pos_label is not specified"
     ]
    }
   ],
   "source": [
    "from sklearn.linear_model import LogisticRegression\n",
    "\n",
    "iris = datasets.load_iris()\n",
    "X = iris.data\n",
    "y = iris.target\n",
    "y = label_binarize(y, classes=[0, 1, 2])\n",
    "n_classes = y.shape[1]\n",
    "\n",
    "\n",
    "random_state = np.random.RandomState(0)\n",
    "n_samples, n_features = X.shape\n",
    "X = np.c_[X, random_state.randn(n_samples, 200 * n_features)]\n",
    "\n",
    "# shuffle and split training and test sets\n",
    "X_train, X_test, y_train, y_test = train_test_split(X, y, test_size=.5,\n",
    "                                                    random_state=0)\n",
    "\n",
    "classifier2 = OneVsRestClassifier(logisticsRegression())\n",
    "# classifier2 = LogisticRegression(solver='newton-cg',multi_class='multinomial')\n",
    "y_score2 = classifier2.fit(X_train, y_train).decision_function(X_test)\n",
    "print(y_score2)\n",
    "\n",
    "\n",
    "# micro-averaging AUC\n",
    "fpr = dict()\n",
    "tpr = dict()\n",
    "roc_auc = dict()\n",
    "for i in range(n_classes):\n",
    "    fpr[i], tpr[i], _ = roc_curve(y_test[:, i], y_score2[:, i])\n",
    "    roc_auc[i] = auc(fpr[i], tpr[i])\n",
    "\n",
    "# Compute micro-average ROC curve and ROC area\n",
    "fpr[\"micro\"], tpr[\"micro\"], _ = roc_curve(y_test.ravel(), y_score.ravel())\n",
    "roc_auc[\"micro\"] = auc(fpr[\"micro\"], tpr[\"micro\"])\n",
    "print(roc_auc['micro'])\n",
    "\n",
    "# macro-averaging AUC\n",
    "all_fpr = np.unique(np.concatenate([fpr[i] for i in range(n_classes)]))\n",
    "\n",
    "# Then interpolate all ROC curves at this points\n",
    "mean_tpr = np.zeros_like(all_fpr)\n",
    "for i in range(n_classes):\n",
    "    mean_tpr += interp(all_fpr, fpr[i], tpr[i])\n",
    "\n",
    "# Finally average it and compute AUC\n",
    "mean_tpr /= n_classes\n",
    "\n",
    "fpr[\"macro\"] = all_fpr\n",
    "tpr[\"macro\"] = mean_tpr\n",
    "roc_auc[\"macro\"] = auc(fpr[\"macro\"], tpr[\"macro\"])\n",
    "print(roc_auc['macro'])\n",
    "\n",
    "\n",
    "\n"
   ]
  },
  {
   "cell_type": "code",
   "execution_count": null,
   "metadata": {
    "collapsed": true
   },
   "outputs": [],
   "source": [
    "# Compute ROC curve and ROC area for each class\n",
    "fpr = dict()\n",
    "tpr = dict()\n",
    "roc_auc = dict()\n",
    "for i in range(n_classes):\n",
    "    fpr[i], tpr[i], _ = roc_curve(y_test[:, i], y_score[:, i])\n",
    "    roc_auc[i] = auc(fpr[i], tpr[i])\n",
    "\n",
    "# Compute micro-average ROC curve and ROC area\n",
    "fpr[\"micro\"], tpr[\"micro\"], _ = roc_curve(y_test.ravel(), y_score.ravel())\n",
    "roc_auc[\"micro\"] = auc(fpr[\"micro\"], tpr[\"micro\"])"
   ]
  },
  {
   "cell_type": "code",
   "execution_count": null,
   "metadata": {
    "collapsed": true
   },
   "outputs": [],
   "source": [
    "# First aggregate all false positive rates\n",
    "all_fpr = np.unique(np.concatenate([fpr[i] for i in range(n_classes)]))\n",
    "\n",
    "# Then interpolate all ROC curves at this points\n",
    "mean_tpr = np.zeros_like(all_fpr)\n",
    "for i in range(n_classes):\n",
    "    mean_tpr += interp(all_fpr, fpr[i], tpr[i])\n",
    "\n",
    "# Finally average it and compute AUC\n",
    "mean_tpr /= n_classes\n",
    "\n",
    "fpr[\"macro\"] = all_fpr\n",
    "tpr[\"macro\"] = mean_tpr\n",
    "roc_auc[\"macro\"] = auc(fpr[\"macro\"], tpr[\"macro\"])"
   ]
  }
 ],
 "metadata": {
  "kernelspec": {
   "display_name": "Python 3",
   "language": "python",
   "name": "python3"
  },
  "language_info": {
   "codemirror_mode": {
    "name": "ipython",
    "version": 3
   },
   "file_extension": ".py",
   "mimetype": "text/x-python",
   "name": "python",
   "nbconvert_exporter": "python",
   "pygments_lexer": "ipython3",
   "version": "3.5.2"
  }
 },
 "nbformat": 4,
 "nbformat_minor": 2
}
