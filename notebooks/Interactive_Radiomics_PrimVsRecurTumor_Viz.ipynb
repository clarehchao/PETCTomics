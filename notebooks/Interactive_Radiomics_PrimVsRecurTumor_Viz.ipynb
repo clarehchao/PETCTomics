{
 "cells": [
  {
   "cell_type": "code",
   "execution_count": null,
   "metadata": {},
   "outputs": [],
   "source": [
    "import pandas as pd\n",
    "import numpy as np\n",
    "import glob\n",
    "import re"
   ]
  },
  {
   "cell_type": "code",
   "execution_count": null,
   "metadata": {},
   "outputs": [],
   "source": [
    "# gather all radiomic data from primary and recurred tumors\n",
    "rootdir = '/Users/shuang/Documents/Proj_Radiomics/Data/her2'\n",
    "\n",
    "# get radiomics of all the primary tumor data\n",
    "fname1 = '{}/her2_Analysis/PETMRI/PETbinwidth0.1_MRItp2_binwidth5/data_all.csv'.format(rootdir)\n",
    "df_prim_all = pd.read_csv(fname1)\n",
    "\n",
    "# print(df_prim_all.columns.tolist())\n",
    "\n",
    "# find all PET radiomics\n",
    "pat = re.compile('_pet')\n",
    "feat_names = [ss for ss in df_prim_all.columns.tolist() if re.search('([\\w.]+)_pet',ss)]\n",
    "new_feat_names = [re.search('([\\w.]+)_pet', ss).group(1) for ss in df_prim_all.columns.tolist() if re.search('([\\w.]+)_pet', ss)]\n",
    "newer_feat_names = [re.search('([\\w.]+)_avg', ss).group(1) if re.search('([\\w.]+)_avg', ss) else ss for ss in new_feat_names]\n",
    "\n",
    "the_col_names = feat_names + ['ptid_side']\n",
    "df_prim = df_prim_all.loc[:,the_col_names]\n",
    "\n",
    "# change feature name\n",
    "col_dict = dict(zip(feat_names, newer_feat_names))\n",
    "df_prim.rename(col_dict, axis='columns',inplace=True)\n",
    "df_prim['tumor_type'] = 'Primary'\n",
    "# print(df_prim.columns.tolist())\n",
    "\n",
    "\n",
    "json_dir = '{}/her2_ImageFeatures/IsoVoxelSize'.format(rootdir)\n",
    "all_jsons = glob.glob('{}/*.json'.format(json_dir))\n",
    "\n",
    "df_recur = pd.DataFrame()\n",
    "for jj in all_jsons:\n",
    "    df_tmp = pd.read_json(jj)\n",
    "    df_recur = df_recur.append(df_tmp, ignore_index=True)\n",
    "df_recur['FOstats_min'] = df_recur['FOstats_minmax'].apply(lambda x: x[0])\n",
    "df_recur['FOstats_max'] = df_recur['FOstats_minmax'].apply(lambda x: x[1])\n",
    "df_recur.drop(columns=['FOstats_minmax'],inplace=True)\n",
    "\n",
    "# get the average of texture features\n",
    "\n",
    "pat = re.compile('texture_')\n",
    "texture_cols = [ss for ss in df_recur.columns.tolist() if pat.match(ss)]\n",
    "for tc in texture_cols:\n",
    "    df_recur[tc +'_avg'] = df_recur[tc].apply(np.mean)\n",
    "    df_recur.drop(tc,axis=1,inplace=True)    \n",
    "df_recur['tumor_type'] = df_recur['tumor_tag'].map(lambda x: '_'.join(['Recur',x]))\n",
    "df_recur['ptid_side'] = df_recur[['pt_id','breast_side']].apply(lambda x: '{}_{}'.format(x[0], x[1]), axis=1)\n",
    "newer_feat_names = [re.search('([\\w.]+)_avg', ss).group(1) if re.search('([\\w.]+)_avg', ss) else ss for ss in df_recur.columns.tolist()]\n",
    "col_dict = dict(zip(df_recur.columns.tolist(), newer_feat_names))\n",
    "df_recur.rename(col_dict, axis='columns',inplace=True)\n",
    "\n",
    "col_of_interest = df_prim.columns.tolist()\n",
    "df_recur_oi = df_recur.loc[:,col_of_interest]\n",
    "df_prim_oi = df_prim.loc[:,col_of_interest]\n",
    "\n",
    "# combine primary and recur tumor DFs\n",
    "df_all = pd.concat([df_prim_oi, df_recur_oi], ignore_index=True)\n",
    "print(df_all)"
   ]
  },
  {
   "cell_type": "code",
   "execution_count": null,
   "metadata": {},
   "outputs": [],
   "source": [
    "# the data ready for bokeh plot\n",
    "ptid_sides = df_recur_oi.ptid_side.tolist()\n",
    "\n",
    "ptidsd_oi = ptid_sides[0]\n",
    "df1 = df_all[df_all['ptid_side'] == ptidsd_oi]\n",
    "# print(df1)\n",
    "val_vars = set(df1.columns.tolist()).symmetric_difference(['ptid_side','tumor_type'])\n",
    "\n",
    "# make an appropriate table\n",
    "df2 = pd.melt(df1, id_vars=['ptid_side','tumor_type'], value_vars=val_vars, var_name='Radiomics')\n",
    "# print(df2)\n",
    "# print(df2.columns.tolist())\n",
    "\n",
    "df3 = df2.pivot(index='Radiomics',columns='tumor_type',values='value')\n",
    "\n",
    "df3 = df3.reset_index()\n",
    "\n",
    "# make another column to categorize radiomic feature to FOstats, shape and size and texture\n",
    "df3['Radiomics_type'] = df3['Radiomics'].apply(lambda x: re.split('_+',x)[0] if re.split('_+',x) else np.nan)\n",
    "# print(df3)\n"
   ]
  }
 ],
 "metadata": {
  "kernelspec": {
   "display_name": "Python 2",
   "language": "python",
   "name": "python2"
  },
  "language_info": {
   "codemirror_mode": {
    "name": "ipython",
    "version": 2
   },
   "file_extension": ".py",
   "mimetype": "text/x-python",
   "name": "python",
   "nbconvert_exporter": "python",
   "pygments_lexer": "ipython2",
   "version": "2.7.14"
  }
 },
 "nbformat": 4,
 "nbformat_minor": 2
}
