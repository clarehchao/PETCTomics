{
 "cells": [
  {
   "cell_type": "code",
   "execution_count": 2,
   "metadata": {},
   "outputs": [],
   "source": [
    "import pandas as pd"
   ]
  },
  {
   "cell_type": "code",
   "execution_count": 12,
   "metadata": {},
   "outputs": [
    {
     "name": "stdout",
     "output_type": "stream",
     "text": [
      "9\n",
      "   Unnamed: 0  Unnamed: 0.1  FOstats_energy_mri  FOstats_entropy_mri  \\\n",
      "0           3             4             8020042             2.935999   \n",
      "1          22            61           539323167             4.062252   \n",
      "2          24            67           222904120             4.421245   \n",
      "3          30            85            -1446176             8.408339   \n",
      "4          50           150            -7000142             8.815710   \n",
      "5          55           168            -2110426             7.995240   \n",
      "6          67           215             -168691             8.792037   \n",
      "7          73           234             8121806             7.749891   \n",
      "\n",
      "   FOstats_kurtosis_mri  FOstats_mean_mri  FOstats_skewness_mri  \\\n",
      "0              2.743182         32.190026              0.791536   \n",
      "1              3.201078         86.529252              0.887595   \n",
      "2              2.242475         80.699428              0.537071   \n",
      "3              3.084209       3342.132352             -0.810943   \n",
      "4              2.151965       2278.542909              0.287767   \n",
      "5              2.489359       2188.689584              0.098232   \n",
      "6              2.188552       3569.525478             -0.263717   \n",
      "7              3.165018       1285.778434              0.641787   \n",
      "\n",
      "   FOstats_uniformity_mri  FOstats_variance_mri  ShapeSize_compactness1_mri  \\\n",
      "0                0.156177            113.134713                    0.065132   \n",
      "1                0.070429            529.026278                    0.190546   \n",
      "2                0.051698            898.964185                    0.136733   \n",
      "3                0.003587         225806.108446                    0.166438   \n",
      "4                0.002392         352423.892090                    0.137403   \n",
      "5                0.004402         108559.780502                    0.039693   \n",
      "6                0.002577         451094.151990                    0.057242   \n",
      "7                0.005341          75573.236016                    0.172558   \n",
      "\n",
      "  ...   OS_5yr  Tumor_Histology_updated  Tumor_Grade_Binary  \\\n",
      "0 ...      NaN                      IDC                 1.0   \n",
      "1 ...      1.0                      IDC                 0.0   \n",
      "2 ...      1.0                      IDC                 0.0   \n",
      "3 ...      NaN                      IDC                 0.0   \n",
      "4 ...      NaN                      IDC                 0.0   \n",
      "5 ...      1.0                      IDC                 0.0   \n",
      "6 ...      1.0                      IDC                 0.0   \n",
      "7 ...      1.0                      IDC                 0.0   \n",
      "\n",
      "                Name  Date of Odx Report  ODx_score  \\\n",
      "0    Cohen, Roxanne              6/12/12         82   \n",
      "1         Yee, Erica              2/9/07         19   \n",
      "2   Weller, Suszanne             2/16/07         32   \n",
      "3   Isenberg, Laurie             1/27/05         15   \n",
      "4  Caraan, Concordia              8/4/08          4   \n",
      "5     O'Neill, Nancy             7/23/08         20   \n",
      "6   Castelli, Amelia            12/31/08         21   \n",
      "7    Shkolnik, Diana             1/21/09         25   \n",
      "\n",
      "   Avg Rate Distal Recurrence (%)   ER   PR Her2  \n",
      "0                              34    N    N    P  \n",
      "1                              12  NaN  NaN  NaN  \n",
      "2                              22  NaN  NaN  NaN  \n",
      "3                               9  NaN  NaN  NaN  \n",
      "4                               4    P    P  N/G  \n",
      "5                              13    P    P  N/G  \n",
      "6                              13    P    P    N  \n",
      "7                              17    P    P    N  \n",
      "\n",
      "[8 rows x 139 columns]\n"
     ]
    }
   ],
   "source": [
    "rootdir = '/Users/shuang/Documents/Proj_Radiomics/Data/her2'\n",
    "\n",
    "fname1 = '{}/her2_Analysis/PETMRI/PETbinwidth0.1_MRItp2_binwidth5/data_all.csv'.format(rootdir)\n",
    "df_all = pd.read_csv(fname1)\n",
    "\n",
    "fname2 = '{}/her2_ClinicalData/her2_Oncotype.csv'.format(rootdir)\n",
    "df_ocdx = pd.read_csv(fname2)\n",
    "print(len(df_ocdx))\n",
    "\n",
    "# print(df_all.columns.tolist())\n",
    "# print(df_ocdx.columns.tolist())\n",
    "\n",
    "df1 = df_all.merge(df_ocdx, on='MRN')\n",
    "print(df1)\n",
    "\n",
    "fout = '{}/her2_Analysis/PETMRI/PETbinwidth0.1_MRItp2_binwidth5/data_oncotype.csv'.format(rootdir)\n",
    "df1.to_csv(fout)\n"
   ]
  },
  {
   "cell_type": "code",
   "execution_count": 11,
   "metadata": {},
   "outputs": [
    {
     "data": {
      "text/plain": [
       "'/Users/shuang/Documents/Proj_Radiomics/Data/her2/her2_Analysis/PETMRI/PETbinwidth0.1_MRItp2_binwidth5/data_oncotype.csv'"
      ]
     },
     "execution_count": 11,
     "metadata": {},
     "output_type": "execute_result"
    }
   ],
   "source": [
    "fout"
   ]
  },
  {
   "cell_type": "code",
   "execution_count": null,
   "metadata": {},
   "outputs": [],
   "source": []
  }
 ],
 "metadata": {
  "kernelspec": {
   "display_name": "Python 2",
   "language": "python",
   "name": "python2"
  },
  "language_info": {
   "codemirror_mode": {
    "name": "ipython",
    "version": 2
   },
   "file_extension": ".py",
   "mimetype": "text/x-python",
   "name": "python",
   "nbconvert_exporter": "python",
   "pygments_lexer": "ipython2",
   "version": "2.7.14"
  }
 },
 "nbformat": 4,
 "nbformat_minor": 2
}
